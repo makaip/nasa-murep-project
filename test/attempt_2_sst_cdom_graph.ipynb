{
 "cells": [
  {
   "cell_type": "code",
   "execution_count": 1,
   "id": "41b49ec5-5503-4a35-8244-1b8c191e92c1",
   "metadata": {},
   "outputs": [],
   "source": [
    "from satpy import Scene\n",
    "from glob import glob"
   ]
  },
  {
   "cell_type": "code",
   "execution_count": 2,
   "id": "c2f176b2-ebc1-4b5f-83ea-ec05e47e045b",
   "metadata": {},
   "outputs": [
    {
     "name": "stdout",
     "output_type": "stream",
     "text": [
      "Readers\n",
      "=======\n",
      "abi_l1b:  ok\n",
      "abi_l1b_scmi:  ok\n",
      "abi_l2_nc:  ok\n",
      "acspo:  ok\n",
      "agri_fy4a_l1:  ok\n",
      "agri_fy4b_l1:  ok\n",
      "ahi_hrit:  ok\n",
      "ahi_hsd:  ok\n",
      "ahi_l1b_gridded_bin:  ok\n",
      "ahi_l2_nc:  ok\n",
      "ami_l1b:  ok\n",
      "amsr2_l1b:  ok\n",
      "amsr2_l2:  ok\n",
      "amsr2_l2_gaasp:  ok\n",
      "amsub_l1c_aapp:  ok\n",
      "ascat_l2_soilmoisture_bufr:  cannot find module 'satpy.readers.ascat_l2_soilmoisture_bufr' (('Missing eccodes-python and/or eccodes C-library installation. Use conda to install eccodes.\\n           Error: ', ModuleNotFoundError(\"No module named 'eccodes'\")))\n",
      "atms_l1b_nc:  ok\n",
      "atms_sdr_hdf5:  ok\n",
      "avhrr_l1b_aapp:  ok\n",
      "avhrr_l1b_eps:  ok\n",
      "avhrr_l1b_gaclac:  cannot find module 'satpy.readers.avhrr_l1b_gaclac' (No module named 'pygac')\n",
      "avhrr_l1b_hrpt:  ok\n",
      "avhrr_l1c_eum_gac_fdr_nc:  ok\n",
      "caliop_l2_cloud:  cannot find module 'satpy.readers.caliop_l2_cloud' (cannot import name 'Dataset' from 'satpy.dataset' (C:\\Users\\Makai\\.conda\\envs\\nasa-murep\\Lib\\site-packages\\satpy\\dataset\\__init__.py))\n",
      "clavrx:  ok\n",
      "cmsaf-claas2_l2_nc:  ok\n",
      "electrol_hrit:  ok\n",
      "epic_l1b_h5:  ok\n",
      "fci_l1c_nc:  ok\n",
      "fci_l2_bufr:  cannot find module 'satpy.readers.eum_l2_bufr' (Missing eccodes-python and/or eccodes C-library installation. Use conda to install eccodes)\n",
      "fci_l2_nc:  ok\n",
      "fy3a_mersi1_l1b:  ok\n",
      "fy3b_mersi1_l1b:  ok\n",
      "fy3c_mersi1_l1b:  ok\n",
      "generic_image:  cannot find module 'satpy.readers.generic_image' (No module named 'rioxarray')\n",
      "geocat:  ok\n",
      "gerb_l2_hr_h5:  ok\n",
      "ghi_l1:  ok\n",
      "ghrsst_l2:  ok\n",
      "gld360_ualf2:  ok\n",
      "glm_l2:  ok\n",
      "gms5-vissr_l1b:  ok\n",
      "goci2_l2_nc:  ok\n",
      "goes-imager_hrit:  ok\n",
      "goes-imager_nc:  ok\n",
      "gpm_imerg:  ok\n",
      "grib:  ok\n",
      "hsaf_grib:  ok\n",
      "hsaf_h5:  ok\n",
      "hy2_scat_l2b_h5:  ok\n",
      "iasi_l2:  ok\n",
      "iasi_l2_cdr_nc:  ok\n",
      "iasi_l2_so2_bufr:  cannot find module 'satpy.readers.iasi_l2_so2_bufr' (('Missing eccodes-python and/or eccodes C-library installation. Use conda to install eccodes.\\n           Error: ', ModuleNotFoundError(\"No module named 'eccodes'\")))\n",
      "ici_l1b_nc:  ok\n",
      "insat3d_img_l1b_h5:  cannot find module 'satpy.readers.insat3d_img_l1b_h5' (No module named 'datatree' It can be installed with the xarray-datatree package.)\n",
      "jami_hrit:  ok\n",
      "li_l2_nc:  ok\n",
      "maia:  ok\n",
      "meris_nc_sen3:  ok\n",
      "mersi2_l1b:  ok\n",
      "mersi3_l1b:  ok\n",
      "mersi_ll_l1b:  ok\n",
      "mersi_rm_l1b:  ok\n",
      "mhs_l1c_aapp:  ok\n",
      "mimicTPW2_comp:  ok\n",
      "mirs:  ok\n",
      "modis_l1b:  ok\n",
      "modis_l2:  ok\n",
      "modis_l3:  ok\n",
      "msi_safe:  ok\n",
      "msi_safe_l2a:  ok\n",
      "msu_gsa_l1b:  ok\n",
      "mtsat2-imager_hrit:  ok\n",
      "mviri_l1b_fiduceo_nc:  ok\n",
      "mwi_l1b_nc:  ok\n",
      "mws_l1b_nc:  ok\n",
      "nucaps:  ok\n",
      "nwcsaf-geo:  ok\n",
      "nwcsaf-msg2013-hdf5:  ok\n",
      "nwcsaf-pps_nc:  ok\n",
      "oceancolorcci_l3_nc:  ok\n",
      "olci_l1b:  ok\n",
      "olci_l2:  ok\n",
      "omps_edr:  ok\n",
      "osisaf_nc:  ok\n",
      "safe_sar_l2_ocn:  ok\n",
      "sar-c_safe:  cannot find module 'satpy.readers.sar_c_safe' (No module named 'rioxarray')\n",
      "satpy_cf_nc:  ok\n",
      "scatsat1_l2b:  cannot find module 'satpy.readers.scatsat1_l2b' (cannot import name 'Dataset' from 'satpy.dataset' (C:\\Users\\Makai\\.conda\\envs\\nasa-murep\\Lib\\site-packages\\satpy\\dataset\\__init__.py))\n",
      "seadas_l2:  ok\n",
      "seviri_l1b_hrit:  ok\n",
      "seviri_l1b_icare:  ok\n",
      "seviri_l1b_native:  ok\n",
      "seviri_l1b_nc:  ok\n",
      "seviri_l2_bufr:  cannot find module 'satpy.readers.eum_l2_bufr' (Missing eccodes-python and/or eccodes C-library installation. Use conda to install eccodes)\n",
      "seviri_l2_grib:  cannot find module 'satpy.readers.seviri_l2_grib' (Missing eccodes-python and/or eccodes C-library installation. Use conda to install eccodes)\n",
      "sgli_l1b:  ok\n",
      "slstr_l1b:  ok\n",
      "smos_l2_wind:  ok\n",
      "tropomi_l2:  ok\n",
      "vii_l1b_nc:  ok\n",
      "vii_l2_nc:  ok\n",
      "viirs_compact:  ok\n",
      "viirs_edr:  ok\n",
      "viirs_edr_active_fires:  ok\n",
      "viirs_edr_flood:  ok\n",
      "viirs_l1b:  ok\n",
      "viirs_l2:  ok\n",
      "viirs_sdr:  ok\n",
      "viirs_vgac_l1c_nc:  ok\n",
      "virr_l1b:  ok\n",
      "\n",
      "Writers\n",
      "=======\n",
      "awips_tiled:  ok\n",
      "cf:  ok\n",
      "geotiff:  ok\n",
      "mitiff:  ok\n",
      "ninjogeotiff:  ok\n",
      "ninjotiff:  cannot find module 'satpy.writers.ninjotiff' (No module named 'pyninjotiff')\n",
      "simple_image:  ok\n",
      "\n",
      "Extras\n",
      "======\n",
      "cartopy:  ok\n",
      "geoviews:  ok\n",
      "\n"
     ]
    }
   ],
   "source": [
    "from satpy.utils import check_satpy\n",
    "check_satpy()"
   ]
  },
  {
   "cell_type": "code",
   "execution_count": 3,
   "id": "2f169561-0a71-4122-9ab0-6dd98072da46",
   "metadata": {},
   "outputs": [
    {
     "data": {
      "text/plain": [
       "1"
      ]
     },
     "execution_count": 3,
     "metadata": {},
     "output_type": "execute_result"
    }
   ],
   "source": [
    "hdf_files = glob('../MOD021KM.A2024227.1515.061.2024228014041.hdf')\n",
    "len(hdf_files)"
   ]
  },
  {
   "cell_type": "code",
   "execution_count": 4,
   "id": "5d2321b8-9e6d-45b0-ad8d-95758a244e24",
   "metadata": {
    "scrolled": true
   },
   "outputs": [
    {
     "name": "stdout",
     "output_type": "stream",
     "text": [
      "['1', '10', '11', '12', '13hi', '13lo', '14hi', '14lo', '15', '16', '17', '18', '19', '2', '20', '21', '22', '23', '24', '25', '26', '27', '28', '29', '3', '30', '31', '32', '33', '34', '35', '36', '4', '5', '6', '7', '8', '9', 'latitude', 'longitude', 'satellite_azimuth_angle', 'satellite_zenith_angle', 'solar_azimuth_angle', 'solar_zenith_angle']\n"
     ]
    }
   ],
   "source": [
    "scn = Scene(filenames=hdf_files, reader='modis_l1b')\n",
    "print(scn.available_dataset_names())"
   ]
  },
  {
   "cell_type": "code",
   "execution_count": 5,
   "id": "bd8f424f-1c99-4359-8337-9b8dec54021b",
   "metadata": {},
   "outputs": [
    {
     "ename": "HDF4Error",
     "evalue": "info (59): Invalid arguments to routine",
     "output_type": "error",
     "traceback": [
      "\u001b[1;31m---------------------------------------------------------------------------\u001b[0m",
      "\u001b[1;31mHDF4Error\u001b[0m                                 Traceback (most recent call last)",
      "Cell \u001b[1;32mIn[5], line 1\u001b[0m\n\u001b[1;32m----> 1\u001b[0m \u001b[43mscn\u001b[49m\u001b[38;5;241;43m.\u001b[39;49m\u001b[43mload\u001b[49m\u001b[43m(\u001b[49m\u001b[43m[\u001b[49m\u001b[38;5;124;43m'\u001b[39;49m\u001b[38;5;124;43m1\u001b[39;49m\u001b[38;5;124;43m'\u001b[39;49m\u001b[43m]\u001b[49m\u001b[43m)\u001b[49m\n",
      "File \u001b[1;32m~\\.conda\\envs\\nasa-murep\\Lib\\site-packages\\satpy\\scene.py:1456\u001b[0m, in \u001b[0;36mScene.load\u001b[1;34m(self, wishlist, calibration, resolution, polarization, level, modifiers, generate, unload, **kwargs)\u001b[0m\n\u001b[0;32m   1452\u001b[0m \u001b[38;5;28mself\u001b[39m\u001b[38;5;241m.\u001b[39m_update_dependency_tree(needed_datasets, query)\n\u001b[0;32m   1454\u001b[0m \u001b[38;5;28mself\u001b[39m\u001b[38;5;241m.\u001b[39m_wishlist \u001b[38;5;241m|\u001b[39m\u001b[38;5;241m=\u001b[39m needed_datasets\n\u001b[1;32m-> 1456\u001b[0m \u001b[38;5;28;43mself\u001b[39;49m\u001b[38;5;241;43m.\u001b[39;49m\u001b[43m_read_datasets_from_storage\u001b[49m\u001b[43m(\u001b[49m\u001b[38;5;241;43m*\u001b[39;49m\u001b[38;5;241;43m*\u001b[39;49m\u001b[43mkwargs\u001b[49m\u001b[43m)\u001b[49m\n\u001b[0;32m   1457\u001b[0m \u001b[38;5;28;01mif\u001b[39;00m generate:\n\u001b[0;32m   1458\u001b[0m     \u001b[38;5;28mself\u001b[39m\u001b[38;5;241m.\u001b[39mgenerate_possible_composites(unload)\n",
      "File \u001b[1;32m~\\.conda\\envs\\nasa-murep\\Lib\\site-packages\\satpy\\scene.py:1479\u001b[0m, in \u001b[0;36mScene._read_datasets_from_storage\u001b[1;34m(self, **kwargs)\u001b[0m\n\u001b[0;32m   1469\u001b[0m \u001b[38;5;250m\u001b[39m\u001b[38;5;124;03m\"\"\"Load datasets from the necessary reader.\u001b[39;00m\n\u001b[0;32m   1470\u001b[0m \n\u001b[0;32m   1471\u001b[0m \u001b[38;5;124;03mArgs:\u001b[39;00m\n\u001b[1;32m   (...)\u001b[0m\n\u001b[0;32m   1476\u001b[0m \n\u001b[0;32m   1477\u001b[0m \u001b[38;5;124;03m\"\"\"\u001b[39;00m\n\u001b[0;32m   1478\u001b[0m nodes \u001b[38;5;241m=\u001b[39m \u001b[38;5;28mself\u001b[39m\u001b[38;5;241m.\u001b[39m_dependency_tree\u001b[38;5;241m.\u001b[39mleaves(limit_nodes_to\u001b[38;5;241m=\u001b[39m\u001b[38;5;28mself\u001b[39m\u001b[38;5;241m.\u001b[39mmissing_datasets)\n\u001b[1;32m-> 1479\u001b[0m \u001b[38;5;28;01mreturn\u001b[39;00m \u001b[38;5;28;43mself\u001b[39;49m\u001b[38;5;241;43m.\u001b[39;49m\u001b[43m_read_dataset_nodes_from_storage\u001b[49m\u001b[43m(\u001b[49m\u001b[43mnodes\u001b[49m\u001b[43m,\u001b[49m\u001b[43m \u001b[49m\u001b[38;5;241;43m*\u001b[39;49m\u001b[38;5;241;43m*\u001b[39;49m\u001b[43mkwargs\u001b[49m\u001b[43m)\u001b[49m\n",
      "File \u001b[1;32m~\\.conda\\envs\\nasa-murep\\Lib\\site-packages\\satpy\\scene.py:1485\u001b[0m, in \u001b[0;36mScene._read_dataset_nodes_from_storage\u001b[1;34m(self, reader_nodes, **kwargs)\u001b[0m\n\u001b[0;32m   1483\u001b[0m \u001b[38;5;66;03m# Sort requested datasets by reader\u001b[39;00m\n\u001b[0;32m   1484\u001b[0m reader_datasets \u001b[38;5;241m=\u001b[39m \u001b[38;5;28mself\u001b[39m\u001b[38;5;241m.\u001b[39m_sort_dataset_nodes_by_reader(reader_nodes)\n\u001b[1;32m-> 1485\u001b[0m loaded_datasets \u001b[38;5;241m=\u001b[39m \u001b[38;5;28;43mself\u001b[39;49m\u001b[38;5;241;43m.\u001b[39;49m\u001b[43m_load_datasets_by_readers\u001b[49m\u001b[43m(\u001b[49m\u001b[43mreader_datasets\u001b[49m\u001b[43m,\u001b[49m\u001b[43m \u001b[49m\u001b[38;5;241;43m*\u001b[39;49m\u001b[38;5;241;43m*\u001b[39;49m\u001b[43mkwargs\u001b[49m\u001b[43m)\u001b[49m\n\u001b[0;32m   1486\u001b[0m \u001b[38;5;28mself\u001b[39m\u001b[38;5;241m.\u001b[39m_datasets\u001b[38;5;241m.\u001b[39mupdate(loaded_datasets)\n\u001b[0;32m   1487\u001b[0m \u001b[38;5;28;01mreturn\u001b[39;00m loaded_datasets\n",
      "File \u001b[1;32m~\\.conda\\envs\\nasa-murep\\Lib\\site-packages\\satpy\\scene.py:1510\u001b[0m, in \u001b[0;36mScene._load_datasets_by_readers\u001b[1;34m(self, reader_datasets, **kwargs)\u001b[0m\n\u001b[0;32m   1508\u001b[0m \u001b[38;5;28;01mfor\u001b[39;00m reader_name, ds_ids \u001b[38;5;129;01min\u001b[39;00m reader_datasets\u001b[38;5;241m.\u001b[39mitems():\n\u001b[0;32m   1509\u001b[0m     reader_instance \u001b[38;5;241m=\u001b[39m \u001b[38;5;28mself\u001b[39m\u001b[38;5;241m.\u001b[39m_readers[reader_name]\n\u001b[1;32m-> 1510\u001b[0m     new_datasets \u001b[38;5;241m=\u001b[39m \u001b[43mreader_instance\u001b[49m\u001b[38;5;241;43m.\u001b[39;49m\u001b[43mload\u001b[49m\u001b[43m(\u001b[49m\u001b[43mds_ids\u001b[49m\u001b[43m,\u001b[49m\u001b[43m \u001b[49m\u001b[38;5;241;43m*\u001b[39;49m\u001b[38;5;241;43m*\u001b[39;49m\u001b[43mkwargs\u001b[49m\u001b[43m)\u001b[49m\n\u001b[0;32m   1511\u001b[0m     loaded_datasets\u001b[38;5;241m.\u001b[39mupdate(new_datasets)\n\u001b[0;32m   1512\u001b[0m \u001b[38;5;28;01mreturn\u001b[39;00m loaded_datasets\n",
      "File \u001b[1;32m~\\.conda\\envs\\nasa-murep\\Lib\\site-packages\\satpy\\readers\\yaml_reader.py:948\u001b[0m, in \u001b[0;36mFileYAMLReader.load\u001b[1;34m(self, dataset_keys, previous_datasets, **kwargs)\u001b[0m\n\u001b[0;32m    945\u001b[0m     \u001b[38;5;28;01mcontinue\u001b[39;00m\n\u001b[0;32m    946\u001b[0m coords \u001b[38;5;241m=\u001b[39m [all_datasets\u001b[38;5;241m.\u001b[39mget(cid, \u001b[38;5;28;01mNone\u001b[39;00m)\n\u001b[0;32m    947\u001b[0m           \u001b[38;5;28;01mfor\u001b[39;00m cid \u001b[38;5;129;01min\u001b[39;00m coordinates\u001b[38;5;241m.\u001b[39mget(dsid, [])]\n\u001b[1;32m--> 948\u001b[0m ds \u001b[38;5;241m=\u001b[39m \u001b[38;5;28;43mself\u001b[39;49m\u001b[38;5;241;43m.\u001b[39;49m\u001b[43m_load_dataset_with_area\u001b[49m\u001b[43m(\u001b[49m\u001b[43mdsid\u001b[49m\u001b[43m,\u001b[49m\u001b[43m \u001b[49m\u001b[43mcoords\u001b[49m\u001b[43m,\u001b[49m\u001b[43m \u001b[49m\u001b[38;5;241;43m*\u001b[39;49m\u001b[38;5;241;43m*\u001b[39;49m\u001b[43mkwargs\u001b[49m\u001b[43m)\u001b[49m\n\u001b[0;32m    949\u001b[0m \u001b[38;5;28;01mif\u001b[39;00m ds \u001b[38;5;129;01mis\u001b[39;00m \u001b[38;5;129;01mnot\u001b[39;00m \u001b[38;5;28;01mNone\u001b[39;00m:\n\u001b[0;32m    950\u001b[0m     all_datasets[dsid] \u001b[38;5;241m=\u001b[39m ds\n",
      "File \u001b[1;32m~\\.conda\\envs\\nasa-murep\\Lib\\site-packages\\satpy\\readers\\yaml_reader.py:836\u001b[0m, in \u001b[0;36mFileYAMLReader._load_dataset_with_area\u001b[1;34m(self, dsid, coords, **kwargs)\u001b[0m\n\u001b[0;32m    833\u001b[0m     \u001b[38;5;28;01mreturn\u001b[39;00m\n\u001b[0;32m    835\u001b[0m \u001b[38;5;28;01mtry\u001b[39;00m:\n\u001b[1;32m--> 836\u001b[0m     ds \u001b[38;5;241m=\u001b[39m \u001b[38;5;28;43mself\u001b[39;49m\u001b[38;5;241;43m.\u001b[39;49m\u001b[43m_load_dataset_data\u001b[49m\u001b[43m(\u001b[49m\u001b[43mfile_handlers\u001b[49m\u001b[43m,\u001b[49m\u001b[43m \u001b[49m\u001b[43mdsid\u001b[49m\u001b[43m,\u001b[49m\u001b[43m \u001b[49m\u001b[38;5;241;43m*\u001b[39;49m\u001b[38;5;241;43m*\u001b[39;49m\u001b[43mkwargs\u001b[49m\u001b[43m)\u001b[49m\n\u001b[0;32m    837\u001b[0m \u001b[38;5;28;01mexcept\u001b[39;00m (\u001b[38;5;167;01mKeyError\u001b[39;00m, \u001b[38;5;167;01mValueError\u001b[39;00m) \u001b[38;5;28;01mas\u001b[39;00m err:\n\u001b[0;32m    838\u001b[0m     logger\u001b[38;5;241m.\u001b[39mexception(\u001b[38;5;124m\"\u001b[39m\u001b[38;5;124mCould not load dataset \u001b[39m\u001b[38;5;124m'\u001b[39m\u001b[38;5;132;01m%s\u001b[39;00m\u001b[38;5;124m'\u001b[39m\u001b[38;5;124m: \u001b[39m\u001b[38;5;132;01m%s\u001b[39;00m\u001b[38;5;124m\"\u001b[39m, dsid, \u001b[38;5;28mstr\u001b[39m(err))\n",
      "File \u001b[1;32m~\\.conda\\envs\\nasa-murep\\Lib\\site-packages\\satpy\\readers\\yaml_reader.py:736\u001b[0m, in \u001b[0;36mFileYAMLReader._load_dataset_data\u001b[1;34m(self, file_handlers, dsid, **kwargs)\u001b[0m\n\u001b[0;32m    734\u001b[0m \u001b[38;5;28;01mdef\u001b[39;00m \u001b[38;5;21m_load_dataset_data\u001b[39m(\u001b[38;5;28mself\u001b[39m, file_handlers, dsid, \u001b[38;5;241m*\u001b[39m\u001b[38;5;241m*\u001b[39mkwargs):\n\u001b[0;32m    735\u001b[0m     ds_info \u001b[38;5;241m=\u001b[39m \u001b[38;5;28mself\u001b[39m\u001b[38;5;241m.\u001b[39mall_ids[dsid]\n\u001b[1;32m--> 736\u001b[0m     proj \u001b[38;5;241m=\u001b[39m \u001b[38;5;28;43mself\u001b[39;49m\u001b[38;5;241;43m.\u001b[39;49m\u001b[43m_load_dataset\u001b[49m\u001b[43m(\u001b[49m\u001b[43mdsid\u001b[49m\u001b[43m,\u001b[49m\u001b[43m \u001b[49m\u001b[43mds_info\u001b[49m\u001b[43m,\u001b[49m\u001b[43m \u001b[49m\u001b[43mfile_handlers\u001b[49m\u001b[43m,\u001b[49m\u001b[43m \u001b[49m\u001b[38;5;241;43m*\u001b[39;49m\u001b[38;5;241;43m*\u001b[39;49m\u001b[43mkwargs\u001b[49m\u001b[43m)\u001b[49m\n\u001b[0;32m    737\u001b[0m     \u001b[38;5;66;03m# FIXME: areas could be concatenated here\u001b[39;00m\n\u001b[0;32m    738\u001b[0m     \u001b[38;5;66;03m# Update the metadata\u001b[39;00m\n\u001b[0;32m    739\u001b[0m     proj\u001b[38;5;241m.\u001b[39mattrs[\u001b[38;5;124m\"\u001b[39m\u001b[38;5;124mstart_time\u001b[39m\u001b[38;5;124m\"\u001b[39m] \u001b[38;5;241m=\u001b[39m file_handlers[\u001b[38;5;241m0\u001b[39m]\u001b[38;5;241m.\u001b[39mstart_time\n",
      "File \u001b[1;32m~\\.conda\\envs\\nasa-murep\\Lib\\site-packages\\satpy\\readers\\yaml_reader.py:712\u001b[0m, in \u001b[0;36mFileYAMLReader._load_dataset\u001b[1;34m(dsid, ds_info, file_handlers, dim, **kwargs)\u001b[0m\n\u001b[0;32m    710\u001b[0m \u001b[38;5;28;01mfor\u001b[39;00m fh \u001b[38;5;129;01min\u001b[39;00m file_handlers:\n\u001b[0;32m    711\u001b[0m     \u001b[38;5;28;01mtry\u001b[39;00m:\n\u001b[1;32m--> 712\u001b[0m         projectable \u001b[38;5;241m=\u001b[39m \u001b[43mfh\u001b[49m\u001b[38;5;241;43m.\u001b[39;49m\u001b[43mget_dataset\u001b[49m\u001b[43m(\u001b[49m\u001b[43mdsid\u001b[49m\u001b[43m,\u001b[49m\u001b[43m \u001b[49m\u001b[43mds_info\u001b[49m\u001b[43m)\u001b[49m\n\u001b[0;32m    713\u001b[0m         \u001b[38;5;28;01mif\u001b[39;00m projectable \u001b[38;5;129;01mis\u001b[39;00m \u001b[38;5;129;01mnot\u001b[39;00m \u001b[38;5;28;01mNone\u001b[39;00m:\n\u001b[0;32m    714\u001b[0m             slice_list\u001b[38;5;241m.\u001b[39mappend(projectable)\n",
      "File \u001b[1;32m~\\.conda\\envs\\nasa-murep\\Lib\\site-packages\\satpy\\readers\\modis_l1b.py:258\u001b[0m, in \u001b[0;36mMixedHDFEOSReader.get_dataset\u001b[1;34m(self, key, info)\u001b[0m\n\u001b[0;32m    256\u001b[0m \u001b[38;5;250m\u001b[39m\u001b[38;5;124;03m\"\"\"Get the dataset.\"\"\"\u001b[39;00m\n\u001b[0;32m    257\u001b[0m \u001b[38;5;28;01mif\u001b[39;00m key[\u001b[38;5;124m\"\u001b[39m\u001b[38;5;124mname\u001b[39m\u001b[38;5;124m\"\u001b[39m] \u001b[38;5;129;01min\u001b[39;00m HDFEOSGeoReader\u001b[38;5;241m.\u001b[39mDATASET_NAMES:\n\u001b[1;32m--> 258\u001b[0m     \u001b[38;5;28;01mreturn\u001b[39;00m \u001b[43mHDFEOSGeoReader\u001b[49m\u001b[38;5;241;43m.\u001b[39;49m\u001b[43mget_dataset\u001b[49m\u001b[43m(\u001b[49m\u001b[38;5;28;43mself\u001b[39;49m\u001b[43m,\u001b[49m\u001b[43m \u001b[49m\u001b[43mkey\u001b[49m\u001b[43m,\u001b[49m\u001b[43m \u001b[49m\u001b[43minfo\u001b[49m\u001b[43m)\u001b[49m\n\u001b[0;32m    259\u001b[0m \u001b[38;5;28;01mreturn\u001b[39;00m HDFEOSBandReader\u001b[38;5;241m.\u001b[39mget_dataset(\u001b[38;5;28mself\u001b[39m, key, info)\n",
      "File \u001b[1;32m~\\.conda\\envs\\nasa-murep\\Lib\\site-packages\\satpy\\readers\\hdfeos_base.py:421\u001b[0m, in \u001b[0;36mHDFEOSGeoReader.get_dataset\u001b[1;34m(self, dataset_id, dataset_info)\u001b[0m\n\u001b[0;32m    418\u001b[0m     data \u001b[38;5;241m=\u001b[39m \u001b[38;5;28mself\u001b[39m\u001b[38;5;241m.\u001b[39mload_dataset(in_file_dataset_name)\n\u001b[0;32m    419\u001b[0m \u001b[38;5;28;01melse\u001b[39;00m:\n\u001b[0;32m    420\u001b[0m     \u001b[38;5;66;03m# otherwise use the default name for this variable\u001b[39;00m\n\u001b[1;32m--> 421\u001b[0m     data \u001b[38;5;241m=\u001b[39m \u001b[38;5;28;43mself\u001b[39;49m\u001b[38;5;241;43m.\u001b[39;49m\u001b[43m_load_ds_by_name\u001b[49m\u001b[43m(\u001b[49m\u001b[43mdataset_name\u001b[49m\u001b[43m)\u001b[49m\n\u001b[0;32m    422\u001b[0m \u001b[38;5;28;01mif\u001b[39;00m resolution \u001b[38;5;241m!=\u001b[39m \u001b[38;5;28mself\u001b[39m\u001b[38;5;241m.\u001b[39mgeo_resolution:\n\u001b[0;32m    423\u001b[0m     \u001b[38;5;28;01mif\u001b[39;00m in_file_dataset_name \u001b[38;5;129;01mis\u001b[39;00m \u001b[38;5;129;01mnot\u001b[39;00m \u001b[38;5;28;01mNone\u001b[39;00m:\n\u001b[0;32m    424\u001b[0m         \u001b[38;5;66;03m# they specified a custom variable name but\u001b[39;00m\n\u001b[0;32m    425\u001b[0m         \u001b[38;5;66;03m# we don't know how to interpolate this yet\u001b[39;00m\n",
      "File \u001b[1;32m~\\.conda\\envs\\nasa-murep\\Lib\\site-packages\\satpy\\readers\\hdfeos_base.py:385\u001b[0m, in \u001b[0;36mHDFEOSGeoReader._load_ds_by_name\u001b[1;34m(self, ds_name)\u001b[0m\n\u001b[0;32m    383\u001b[0m     \u001b[38;5;28;01mexcept\u001b[39;00m \u001b[38;5;167;01mKeyError\u001b[39;00m:\n\u001b[0;32m    384\u001b[0m         \u001b[38;5;28;01mreturn\u001b[39;00m \u001b[38;5;28mself\u001b[39m\u001b[38;5;241m.\u001b[39mload_dataset(var_names[\u001b[38;5;241m1\u001b[39m])\n\u001b[1;32m--> 385\u001b[0m \u001b[38;5;28;01mreturn\u001b[39;00m \u001b[38;5;28;43mself\u001b[39;49m\u001b[38;5;241;43m.\u001b[39;49m\u001b[43mload_dataset\u001b[49m\u001b[43m(\u001b[49m\u001b[43mvar_names\u001b[49m\u001b[43m)\u001b[49m\n",
      "File \u001b[1;32m~\\.conda\\envs\\nasa-murep\\Lib\\site-packages\\satpy\\readers\\hdfeos_base.py:222\u001b[0m, in \u001b[0;36mHDFEOSBaseFileReader.load_dataset\u001b[1;34m(self, dataset_name, is_category)\u001b[0m\n\u001b[0;32m    219\u001b[0m dask_arr \u001b[38;5;241m=\u001b[39m from_sds(dataset, chunks\u001b[38;5;241m=\u001b[39mchunks)\n\u001b[0;32m    220\u001b[0m dims \u001b[38;5;241m=\u001b[39m (\u001b[38;5;124m\"\u001b[39m\u001b[38;5;124my\u001b[39m\u001b[38;5;124m\"\u001b[39m, \u001b[38;5;124m\"\u001b[39m\u001b[38;5;124mx\u001b[39m\u001b[38;5;124m\"\u001b[39m) \u001b[38;5;28;01mif\u001b[39;00m dask_arr\u001b[38;5;241m.\u001b[39mndim \u001b[38;5;241m==\u001b[39m \u001b[38;5;241m2\u001b[39m \u001b[38;5;28;01melse\u001b[39;00m \u001b[38;5;28;01mNone\u001b[39;00m\n\u001b[0;32m    221\u001b[0m data \u001b[38;5;241m=\u001b[39m xr\u001b[38;5;241m.\u001b[39mDataArray(dask_arr, dims\u001b[38;5;241m=\u001b[39mdims,\n\u001b[1;32m--> 222\u001b[0m                     attrs\u001b[38;5;241m=\u001b[39m\u001b[43mdataset\u001b[49m\u001b[38;5;241;43m.\u001b[39;49m\u001b[43mattributes\u001b[49m\u001b[43m(\u001b[49m\u001b[43m)\u001b[49m)\n\u001b[0;32m    223\u001b[0m data \u001b[38;5;241m=\u001b[39m \u001b[38;5;28mself\u001b[39m\u001b[38;5;241m.\u001b[39m_scale_and_mask_data_array(data, is_category\u001b[38;5;241m=\u001b[39mis_category)\n\u001b[0;32m    225\u001b[0m \u001b[38;5;28;01mreturn\u001b[39;00m data\n",
      "File \u001b[1;32m~\\.conda\\envs\\nasa-murep\\Lib\\site-packages\\pyhdf\\SD.py:2786\u001b[0m, in \u001b[0;36mSDS.attributes\u001b[1;34m(self, full)\u001b[0m\n\u001b[0;32m   2761\u001b[0m \u001b[38;5;250m\u001b[39m\u001b[38;5;124;03m\"\"\"Return a dictionary describing every attribute defined\u001b[39;00m\n\u001b[0;32m   2762\u001b[0m \u001b[38;5;124;03mon the dataset.\u001b[39;00m\n\u001b[0;32m   2763\u001b[0m \n\u001b[1;32m   (...)\u001b[0m\n\u001b[0;32m   2782\u001b[0m \u001b[38;5;124;03mC library equivalent : no equivalent\u001b[39;00m\n\u001b[0;32m   2783\u001b[0m \u001b[38;5;124;03m                                            \"\"\"\u001b[39;00m\n\u001b[0;32m   2785\u001b[0m \u001b[38;5;66;03m# Get the number of dataset attributes.\u001b[39;00m\n\u001b[1;32m-> 2786\u001b[0m natts \u001b[38;5;241m=\u001b[39m \u001b[38;5;28;43mself\u001b[39;49m\u001b[38;5;241;43m.\u001b[39;49m\u001b[43minfo\u001b[49m\u001b[43m(\u001b[49m\u001b[43m)\u001b[49m[\u001b[38;5;241m4\u001b[39m]\n\u001b[0;32m   2788\u001b[0m \u001b[38;5;66;03m# Inquire each attribute\u001b[39;00m\n\u001b[0;32m   2789\u001b[0m res \u001b[38;5;241m=\u001b[39m {}\n",
      "File \u001b[1;32m~\\.conda\\envs\\nasa-murep\\Lib\\site-packages\\pyhdf\\SD.py:2128\u001b[0m, in \u001b[0;36mSDS.info\u001b[1;34m(self)\u001b[0m\n\u001b[0;32m   2125\u001b[0m buf \u001b[38;5;241m=\u001b[39m _C\u001b[38;5;241m.\u001b[39marray_int32(_C\u001b[38;5;241m.\u001b[39mH4_MAX_VAR_DIMS)\n\u001b[0;32m   2126\u001b[0m status, sds_name, rank, data_type, n_attrs \u001b[38;5;241m=\u001b[39m \\\n\u001b[0;32m   2127\u001b[0m         _C\u001b[38;5;241m.\u001b[39mSDgetinfo(\u001b[38;5;28mself\u001b[39m\u001b[38;5;241m.\u001b[39m_id, buf)\n\u001b[1;32m-> 2128\u001b[0m \u001b[43m_checkErr\u001b[49m\u001b[43m(\u001b[49m\u001b[38;5;124;43m'\u001b[39;49m\u001b[38;5;124;43minfo\u001b[39;49m\u001b[38;5;124;43m'\u001b[39;49m\u001b[43m,\u001b[49m\u001b[43m \u001b[49m\u001b[43mstatus\u001b[49m\u001b[43m,\u001b[49m\u001b[43m \u001b[49m\u001b[38;5;124;43m\"\u001b[39;49m\u001b[38;5;124;43mcannot execute\u001b[39;49m\u001b[38;5;124;43m\"\u001b[39;49m\u001b[43m)\u001b[49m\n\u001b[0;32m   2129\u001b[0m dim_sizes \u001b[38;5;241m=\u001b[39m _array_to_ret(buf, rank)\n\u001b[0;32m   2130\u001b[0m \u001b[38;5;28;01mreturn\u001b[39;00m sds_name, rank, dim_sizes, data_type, n_attrs\n",
      "File \u001b[1;32m~\\.conda\\envs\\nasa-murep\\Lib\\site-packages\\pyhdf\\error.py:23\u001b[0m, in \u001b[0;36m_checkErr\u001b[1;34m(procName, val, msg)\u001b[0m\n\u001b[0;32m     21\u001b[0m \u001b[38;5;28;01melse\u001b[39;00m:\n\u001b[0;32m     22\u001b[0m     err \u001b[38;5;241m=\u001b[39m \u001b[38;5;124m\"\u001b[39m\u001b[38;5;132;01m%s\u001b[39;00m\u001b[38;5;124m : \u001b[39m\u001b[38;5;132;01m%s\u001b[39;00m\u001b[38;5;124m\"\u001b[39m \u001b[38;5;241m%\u001b[39m (procName, msg)\n\u001b[1;32m---> 23\u001b[0m \u001b[38;5;28;01mraise\u001b[39;00m HDF4Error(err)\n",
      "\u001b[1;31mHDF4Error\u001b[0m: info (59): Invalid arguments to routine"
     ]
    }
   ],
   "source": [
    "scn.load(['1'])"
   ]
  },
  {
   "cell_type": "code",
   "execution_count": null,
   "id": "6bf8675f-5316-4cbd-892a-af797f6fa868",
   "metadata": {},
   "outputs": [],
   "source": []
  }
 ],
 "metadata": {
  "kernelspec": {
   "display_name": "Python 3 (ipykernel)",
   "language": "python",
   "name": "python3"
  },
  "language_info": {
   "codemirror_mode": {
    "name": "ipython",
    "version": 3
   },
   "file_extension": ".py",
   "mimetype": "text/x-python",
   "name": "python",
   "nbconvert_exporter": "python",
   "pygments_lexer": "ipython3",
   "version": "3.12.5"
  }
 },
 "nbformat": 4,
 "nbformat_minor": 5
}
