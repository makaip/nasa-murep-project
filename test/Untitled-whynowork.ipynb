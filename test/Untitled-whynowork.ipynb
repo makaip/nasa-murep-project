{
 "cells": [
  {
   "cell_type": "code",
   "execution_count": 3,
   "id": "aaeed73c-7c0c-4350-998d-280653c41aba",
   "metadata": {},
   "outputs": [
    {
     "ename": "ValueError",
     "evalue": "numpy.dtype size changed, may indicate binary incompatibility. Expected 96 from C header, got 88 from PyObject",
     "output_type": "error",
     "traceback": [
      "\u001b[1;31m---------------------------------------------------------------------------\u001b[0m",
      "\u001b[1;31mValueError\u001b[0m                                Traceback (most recent call last)",
      "Cell \u001b[1;32mIn[3], line 4\u001b[0m\n\u001b[0;32m      2\u001b[0m \u001b[38;5;28;01mimport\u001b[39;00m \u001b[38;5;21;01mmatplotlib\u001b[39;00m \u001b[38;5;28;01mas\u001b[39;00m \u001b[38;5;21;01mmpl\u001b[39;00m\n\u001b[0;32m      3\u001b[0m \u001b[38;5;28;01mimport\u001b[39;00m \u001b[38;5;21;01mmatplotlib\u001b[39;00m\u001b[38;5;21;01m.\u001b[39;00m\u001b[38;5;21;01mpyplot\u001b[39;00m \u001b[38;5;28;01mas\u001b[39;00m \u001b[38;5;21;01mplt\u001b[39;00m\n\u001b[1;32m----> 4\u001b[0m \u001b[38;5;28;01mfrom\u001b[39;00m \u001b[38;5;21;01mmpl_toolkits\u001b[39;00m\u001b[38;5;21;01m.\u001b[39;00m\u001b[38;5;21;01mbasemap\u001b[39;00m \u001b[38;5;28;01mimport\u001b[39;00m Basemap\n\u001b[0;32m      5\u001b[0m \u001b[38;5;28;01mimport\u001b[39;00m \u001b[38;5;21;01mnumpy\u001b[39;00m \u001b[38;5;28;01mas\u001b[39;00m \u001b[38;5;21;01mnp\u001b[39;00m\n\u001b[0;32m      6\u001b[0m \u001b[38;5;28;01mfrom\u001b[39;00m \u001b[38;5;21;01mpyhdf\u001b[39;00m\u001b[38;5;21;01m.\u001b[39;00m\u001b[38;5;21;01mSD\u001b[39;00m \u001b[38;5;28;01mimport\u001b[39;00m SD, SDC\n",
      "File \u001b[1;32m~\\.conda\\envs\\nasa-murep\\Lib\\site-packages\\mpl_toolkits\\basemap\\__init__.py:47\u001b[0m\n\u001b[0;32m     44\u001b[0m \u001b[38;5;28;01mfrom\u001b[39;00m \u001b[38;5;21;01mmpl_toolkits\u001b[39;00m\u001b[38;5;21;01m.\u001b[39;00m\u001b[38;5;21;01maxes_grid1\u001b[39;00m \u001b[38;5;28;01mimport\u001b[39;00m make_axes_locatable\n\u001b[0;32m     46\u001b[0m \u001b[38;5;28;01mimport\u001b[39;00m \u001b[38;5;21;01mpyproj\u001b[39;00m\n\u001b[1;32m---> 47\u001b[0m \u001b[38;5;28;01mimport\u001b[39;00m \u001b[38;5;21;01m_geoslib\u001b[39;00m\n\u001b[0;32m     48\u001b[0m \u001b[38;5;28;01mfrom\u001b[39;00m \u001b[38;5;21;01m.\u001b[39;00m proj \u001b[38;5;28;01mimport\u001b[39;00m \u001b[38;5;21;01mProj\u001b[39;00m\n\u001b[0;32m     51\u001b[0m __version__ \u001b[38;5;241m=\u001b[39m \u001b[38;5;124m\"\u001b[39m\u001b[38;5;124m1.4.1\u001b[39m\u001b[38;5;124m\"\u001b[39m\n",
      "File \u001b[1;32msrc\\\\_geoslib.pyx:1\u001b[0m, in \u001b[0;36minit _geoslib\u001b[1;34m()\u001b[0m\n",
      "\u001b[1;31mValueError\u001b[0m: numpy.dtype size changed, may indicate binary incompatibility. Expected 96 from C header, got 88 from PyObject"
     ]
    }
   ],
   "source": [
    "import os\n",
    "import matplotlib as mpl\n",
    "import matplotlib.pyplot as plt\n",
    "from mpl_toolkits.basemap import Basemap\n",
    "import numpy as np\n",
    "from pyhdf.SD import SD, SDC"
   ]
  },
  {
   "cell_type": "code",
   "execution_count": 6,
   "id": "df18c55f-5042-4664-9fe5-ad56642b1871",
   "metadata": {},
   "outputs": [
    {
     "ename": "NameError",
     "evalue": "name 'SD' is not defined",
     "output_type": "error",
     "traceback": [
      "\u001b[1;31m---------------------------------------------------------------------------\u001b[0m",
      "\u001b[1;31mNameError\u001b[0m                                 Traceback (most recent call last)",
      "Cell \u001b[1;32mIn[6], line 3\u001b[0m\n\u001b[0;32m      1\u001b[0m \u001b[38;5;66;03m# Open file.\u001b[39;00m\n\u001b[0;32m      2\u001b[0m FILE_NAME \u001b[38;5;241m=\u001b[39m \u001b[38;5;124m'\u001b[39m\u001b[38;5;124mAIRS.2002.08.01.L3.RetStd_H031.v4.0.21.0.G06104133732.hdf\u001b[39m\u001b[38;5;124m'\u001b[39m\n\u001b[1;32m----> 3\u001b[0m hdf \u001b[38;5;241m=\u001b[39m \u001b[43mSD\u001b[49m(FILE_NAME, SDC\u001b[38;5;241m.\u001b[39mREAD)\n\u001b[0;32m      5\u001b[0m \u001b[38;5;66;03m# List available SDS datasets.\u001b[39;00m\n\u001b[0;32m      6\u001b[0m \u001b[38;5;28mprint\u001b[39m(hdf\u001b[38;5;241m.\u001b[39mdatasets())\n",
      "\u001b[1;31mNameError\u001b[0m: name 'SD' is not defined"
     ]
    }
   ],
   "source": [
    "# Open file.\n",
    "FILE_NAME = 'AIRS.2002.08.01.L3.RetStd_H031.v4.0.21.0.G06104133732.hdf'\n",
    "hdf = SD(FILE_NAME, SDC.READ)\n",
    "\n",
    "# List available SDS datasets.\n",
    "print(hdf.datasets())\n",
    "\n",
    "# Read dataset.\n",
    "DATAFIELD_NAME='RelHumid_A'\n",
    "data3D = hdf.select(DATAFIELD_NAME)\n",
    "data = data3D[11,:,:]\n",
    "\n",
    "# Read geolocation dataset.\n",
    "lat = hdf.select('Latitude')\n",
    "latitude = lat[:,:]\n",
    "lon = hdf.select('Longitude')\n",
    "longitude = lon[:,:]"
   ]
  },
  {
   "cell_type": "code",
   "execution_count": 5,
   "id": "600f41f2-a8c5-4874-ab5c-9054b7d45947",
   "metadata": {},
   "outputs": [
    {
     "ename": "NameError",
     "evalue": "name 'Basemap' is not defined",
     "output_type": "error",
     "traceback": [
      "\u001b[1;31m---------------------------------------------------------------------------\u001b[0m",
      "\u001b[1;31mNameError\u001b[0m                                 Traceback (most recent call last)",
      "Cell \u001b[1;32mIn[5], line 1\u001b[0m\n\u001b[1;32m----> 1\u001b[0m m \u001b[38;5;241m=\u001b[39m \u001b[43mBasemap\u001b[49m(projection\u001b[38;5;241m=\u001b[39m\u001b[38;5;124m'\u001b[39m\u001b[38;5;124mcyl\u001b[39m\u001b[38;5;124m'\u001b[39m, resolution\u001b[38;5;241m=\u001b[39m\u001b[38;5;124m'\u001b[39m\u001b[38;5;124ml\u001b[39m\u001b[38;5;124m'\u001b[39m, llcrnrlat\u001b[38;5;241m=\u001b[39m\u001b[38;5;241m-\u001b[39m\u001b[38;5;241m90\u001b[39m, urcrnrlat \u001b[38;5;241m=\u001b[39m \u001b[38;5;241m90\u001b[39m, llcrnrlon\u001b[38;5;241m=\u001b[39m\u001b[38;5;241m-\u001b[39m\u001b[38;5;241m180\u001b[39m, urcrnrlon \u001b[38;5;241m=\u001b[39m \u001b[38;5;241m180\u001b[39m)\n\u001b[0;32m      2\u001b[0m m\u001b[38;5;241m.\u001b[39mdrawcoastlines(linewidth\u001b[38;5;241m=\u001b[39m\u001b[38;5;241m0.5\u001b[39m)\n\u001b[0;32m      3\u001b[0m m\u001b[38;5;241m.\u001b[39mdrawparallels(np\u001b[38;5;241m.\u001b[39marange(\u001b[38;5;241m-\u001b[39m\u001b[38;5;241m90.\u001b[39m, \u001b[38;5;241m120.\u001b[39m, \u001b[38;5;241m30.\u001b[39m), labels\u001b[38;5;241m=\u001b[39m[\u001b[38;5;241m1\u001b[39m, \u001b[38;5;241m0\u001b[39m, \u001b[38;5;241m0\u001b[39m, \u001b[38;5;241m0\u001b[39m])\n",
      "\u001b[1;31mNameError\u001b[0m: name 'Basemap' is not defined"
     ]
    }
   ],
   "source": [
    "m = Basemap(projection='cyl', resolution='l', llcrnrlat=-90, urcrnrlat = 90, llcrnrlon=-180, urcrnrlon = 180)\n",
    "m.drawcoastlines(linewidth=0.5)\n",
    "m.drawparallels(np.arange(-90., 120., 30.), labels=[1, 0, 0, 0])\n",
    "m.drawmeridians(np.arange(-180., 181., 45.), labels=[0, 0, 0, 1])\n",
    "x, y = m(longitude, latitude)\n",
    "m.pcolormesh(x, y, data)"
   ]
  }
 ],
 "metadata": {
  "kernelspec": {
   "display_name": "Python 3 (ipykernel)",
   "language": "python",
   "name": "python3"
  },
  "language_info": {
   "codemirror_mode": {
    "name": "ipython",
    "version": 3
   },
   "file_extension": ".py",
   "mimetype": "text/x-python",
   "name": "python",
   "nbconvert_exporter": "python",
   "pygments_lexer": "ipython3",
   "version": "3.12.5"
  }
 },
 "nbformat": 4,
 "nbformat_minor": 5
}
