{
 "cells": [
  {
   "cell_type": "code",
   "execution_count": null,
   "metadata": {
    "id": "krsLgVBYZw_A"
   },
   "outputs": [],
   "source": [
    "#@title Copyright 2019 Google LLC. { display-mode: \"form\" }\n",
    "# Licensed under the Apache License, Version 2.0 (the \"License\");\n",
    "# you may not use this file except in compliance with the License.\n",
    "# You may obtain a copy of the License at\n",
    "#\n",
    "# https://www.apache.org/licenses/LICENSE-2.0\n",
    "#\n",
    "# Unless required by applicable law or agreed to in writing, software\n",
    "# distributed under the License is distributed on an \"AS IS\" BASIS,\n",
    "# WITHOUT WARRANTIES OR CONDITIONS OF ANY KIND, either express or implied.\n",
    "# See the License for the specific language governing permissions and\n",
    "# limitations under the License."
   ]
  },
  {
   "cell_type": "markdown",
   "metadata": {
    "id": "aV1xZ1CPi3Nw"
   },
   "source": [
    "<table class=\"ee-notebook-buttons\" align=\"left\"><td>\n",
    "<a target=\"_blank\"  href=\"http://colab.research.google.com/github/google/earthengine-community/blob/master/guides/linked/ee-api-colab-setup.ipynb\">\n",
    "    <img src=\"https://www.tensorflow.org/images/colab_logo_32px.png\" /> Run in Google Colab</a>\n",
    "</td><td>\n",
    "<a target=\"_blank\"  href=\"https://github.com/google/earthengine-community/blob/master/guides/linked/ee-api-colab-setup.ipynb\"><img width=32px src=\"https://www.tensorflow.org/images/GitHub-Mark-32px.png\" /> View source on GitHub</a></td></table>"
   ]
  },
  {
   "cell_type": "markdown",
   "metadata": {
    "id": "LAZiVi13zTE7"
   },
   "source": [
    "# Earth Engine Python API Colab Setup\n",
    "\n",
    "This notebook demonstrates how to setup the Earth Engine Python API in Colab and provides several examples of how to print and visualize Earth Engine processed data."
   ]
  },
  {
   "cell_type": "markdown",
   "metadata": {
    "id": "a69CuP5Q6OI7"
   },
   "source": [
    "## Import API and get credentials\r\n",
    "\r\n",
    "The Earth Engine API is installed by default in Google Colaboratory so requires only importing and authenticating. These steps must be completed for each new Colab session, if you restart your Colab kernel, or if your Colab virtual machine is recycled due to inactivity."
   ]
  },
  {
   "cell_type": "markdown",
   "metadata": {
    "id": "SNh-QBc36Mvk"
   },
   "source": [
    "### Import the API\r\n",
    "\r\n",
    "Run the following cell to import the API into your session."
   ]
  },
  {
   "cell_type": "code",
   "execution_count": 3,
   "metadata": {},
   "outputs": [
    {
     "name": "stderr",
     "output_type": "stream",
     "text": [
      "\n",
      "PackageNotInstalledError: Package is not installed in prefix.\n",
      "  prefix: C:\\ProgramData\\anaconda3\\envs\\nasa-murep\n",
      "  package name: earthengine-api\n",
      "\n",
      "\n"
     ]
    }
   ],
   "source": [
    "! conda update -c conda-forge earthengine-api"
   ]
  },
  {
   "cell_type": "code",
   "execution_count": 4,
   "metadata": {
    "id": "65RChERMzQHZ"
   },
   "outputs": [],
   "source": [
    "import ee"
   ]
  },
  {
   "cell_type": "markdown",
   "metadata": {
    "id": "s-dN42MTzg-w"
   },
   "source": [
    "### Authenticate and initialize\n",
    "\n",
    "Run the `ee.Authenticate` function to authenticate your access to Earth Engine servers and `ee.Initialize` to initialize it. Upon running the following cell you'll be asked to grant Earth Engine access to your Google account. Follow the instructions printed to the cell."
   ]
  },
  {
   "cell_type": "code",
   "execution_count": null,
   "metadata": {
    "id": "NMp9Ei9b0XXL"
   },
   "outputs": [
    {
     "data": {
      "text/html": [
       "<p>To authorize access needed by Earth Engine, open the following\n",
       "        URL in a web browser and follow the instructions:</p>\n",
       "        <p><a href=https://code.earthengine.google.com/client-auth?scopes=https%3A//www.googleapis.com/auth/earthengine%20https%3A//www.googleapis.com/auth/cloud-platform%20https%3A//www.googleapis.com/auth/devstorage.full_control&request_id=c2If1-2HsEr7aCL9fcT42HMSP_f4715ixzGvpsjLGXc&tc=vWtvXMKTnHOHQIWmPorc_bNCluD-e2_DgDt8WRctkGM&cc=xmEUSoh3gcJ7vrI0Eiy6NmNiCFiimVwFli_j58YzbjI>https://code.earthengine.google.com/client-auth?scopes=https%3A//www.googleapis.com/auth/earthengine%20https%3A//www.googleapis.com/auth/cloud-platform%20https%3A//www.googleapis.com/auth/devstorage.full_control&request_id=c2If1-2HsEr7aCL9fcT42HMSP_f4715ixzGvpsjLGXc&tc=vWtvXMKTnHOHQIWmPorc_bNCluD-e2_DgDt8WRctkGM&cc=xmEUSoh3gcJ7vrI0Eiy6NmNiCFiimVwFli_j58YzbjI</a></p>\n",
       "        <p>The authorization workflow will generate a code, which you should paste in the box below.</p>\n",
       "        "
      ],
      "text/plain": [
       "<IPython.core.display.HTML object>"
      ]
     },
     "metadata": {},
     "output_type": "display_data"
    }
   ],
   "source": [
    "# Trigger the authentication flow.\n",
    "ee.Authenticate()\n",
    "\n",
    "# Initialize the library.\n",
    "ee.Initialize(project='savvy-webbing-435022-p9')"
   ]
  },
  {
   "cell_type": "markdown",
   "metadata": {
    "id": "8I_Fr0L5AFmu"
   },
   "source": [
    "## Test the API\n",
    "\n",
    "Test the API by printing the elevation of Mount Everest."
   ]
  },
  {
   "cell_type": "code",
   "execution_count": null,
   "metadata": {
    "id": "v7pD6pDOAhOW"
   },
   "outputs": [],
   "source": [
    "# Print the elevation of Mount Everest.\n",
    "dem = ee.Image('USGS/SRTMGL1_003')\n",
    "xy = ee.Geometry.Point([86.9250, 27.9881])\n",
    "elev = dem.sample(xy, 30).first().get('elevation').getInfo()\n",
    "print('Mount Everest elevation (m):', elev)"
   ]
  },
  {
   "cell_type": "markdown",
   "metadata": {
    "id": "fDLAqiNWeD6t"
   },
   "source": [
    "## Map visualization\n",
    "\n",
    "`ee.Image` objects can be displayed to notebook output cells. The following two\n",
    "examples demonstrate displaying a static image and an interactive map.\n"
   ]
  },
  {
   "cell_type": "markdown",
   "metadata": {
    "id": "45BfeVygwmKm"
   },
   "source": [
    "### Static image\n",
    "\n",
    "The `IPython.display` module contains the `Image` function, which can display\n",
    "the results of a URL representing an image generated from a call to the Earth\n",
    "Engine `getThumbUrl` function. The following cell will display a thumbnail\n",
    "of the global elevation model."
   ]
  },
  {
   "cell_type": "code",
   "execution_count": null,
   "metadata": {
    "id": "Fp4rdpy0eGjx"
   },
   "outputs": [],
   "source": [
    "# Import the Image function from the IPython.display module.\n",
    "from IPython.display import Image\n",
    "\n",
    "# Display a thumbnail of global elevation.\n",
    "Image(url = dem.updateMask(dem.gt(0))\n",
    "  .getThumbURL({'min': 0, 'max': 4000, 'dimensions': 512,\n",
    "                'palette': ['006633', 'E5FFCC', '662A00', 'D8D8D8', 'F5F5F5']}))"
   ]
  },
  {
   "cell_type": "markdown",
   "metadata": {
    "id": "Ljo5dbLkfmVm"
   },
   "source": [
    "### Interactive map\n",
    "\n",
    "The [geemap](https://github.com/gee-community/geemap)\n",
    "library can be used to display `ee.Image` objects on an interactive\n",
    "[ipyleaflet](https://github.com/jupyter-widgets/ipyleaflet) map.\n",
    "\n",
    "The following cell provides an example of using the `geemap.Map` object to\n",
    "display an elevation model."
   ]
  },
  {
   "cell_type": "code",
   "execution_count": null,
   "metadata": {
    "id": "VIiyf6azf4mU"
   },
   "outputs": [],
   "source": [
    "# Import the geemap library.\n",
    "import geemap\n",
    "\n",
    "# Set visualization parameters.\n",
    "vis_params = {\n",
    "  'min': 0,\n",
    "  'max': 4000,\n",
    "  'palette': ['006633', 'E5FFCC', '662A00', 'D8D8D8', 'F5F5F5']}\n",
    "\n",
    "# Create a map object.\n",
    "m = geemap.Map(center=[20, 0], zoom=3)\n",
    "\n",
    "# Add the elevation model to the map object.\n",
    "m.add_ee_layer(dem.updateMask(dem.gt(0)), vis_params, 'DEM')\n",
    "\n",
    "# Display the map.\n",
    "display(m)"
   ]
  },
  {
   "cell_type": "markdown",
   "metadata": {
    "id": "CYfinjFhg0HN"
   },
   "source": [
    "## Chart visualization\n",
    "\n",
    "Some Earth Engine functions produce tabular data that can be plotted by\n",
    "data visualization packages such as `matplotlib`. The following example\n",
    "demonstrates the display of tabular data from Earth Engine as a scatter\n",
    "plot. See [Charting in Colaboratory](https://colab.sandbox.google.com/notebooks/charts.ipynb)\n",
    "for more information."
   ]
  },
  {
   "cell_type": "code",
   "execution_count": null,
   "metadata": {
    "id": "tRPULejJhBSl"
   },
   "outputs": [],
   "source": [
    "# Import the matplotlib.pyplot module.\n",
    "import matplotlib.pyplot as plt\n",
    "\n",
    "# Fetch a Landsat TOA image.\n",
    "img = ee.Image('LANDSAT/LT05/C02/T1_TOA/LT05_034033_20000913')\n",
    "\n",
    "# Select Red and NIR bands and sample 500 points.\n",
    "samp_fc = img.select(['B3','B4']).sample(scale=30, numPixels=500)\n",
    "\n",
    "# Arrange the sample as a list of lists.\n",
    "samp_dict = samp_fc.reduceColumns(ee.Reducer.toList().repeat(2), ['B3', 'B4'])\n",
    "samp_list = ee.List(samp_dict.get('list'))\n",
    "\n",
    "# Save server-side ee.List as a client-side Python list.\n",
    "samp_data = samp_list.getInfo()\n",
    "\n",
    "# Display a scatter plot of Red-NIR sample pairs using matplotlib.\n",
    "plt.scatter(samp_data[0], samp_data[1], alpha=0.2)\n",
    "plt.xlabel('Red', fontsize=12)\n",
    "plt.ylabel('NIR', fontsize=12)\n",
    "plt.show()"
   ]
  }
 ],
 "metadata": {
  "colab": {
   "collapsed_sections": [],
   "name": "ee-api-colab-setup.ipynb",
   "provenance": [],
   "toc_visible": true
  },
  "kernelspec": {
   "display_name": "Python 3 (ipykernel)",
   "language": "python",
   "name": "python3"
  },
  "language_info": {
   "codemirror_mode": {
    "name": "ipython",
    "version": 3
   },
   "file_extension": ".py",
   "mimetype": "text/x-python",
   "name": "python",
   "nbconvert_exporter": "python",
   "pygments_lexer": "ipython3",
   "version": "3.11.9"
  }
 },
 "nbformat": 4,
 "nbformat_minor": 4
}
