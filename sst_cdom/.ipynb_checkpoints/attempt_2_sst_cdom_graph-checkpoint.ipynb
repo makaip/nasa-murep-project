{
 "cells": [
  {
   "cell_type": "code",
   "execution_count": 19,
   "id": "41b49ec5-5503-4a35-8244-1b8c191e92c1",
   "metadata": {},
   "outputs": [],
   "source": [
    "from satpy import Scene\n",
    "from glob import glob\n",
    "import pyhdf"
   ]
  },
  {
   "cell_type": "code",
   "execution_count": 16,
   "id": "2f169561-0a71-4122-9ab0-6dd98072da46",
   "metadata": {},
   "outputs": [
    {
     "data": {
      "text/plain": [
       "1"
      ]
     },
     "execution_count": 16,
     "metadata": {},
     "output_type": "execute_result"
    }
   ],
   "source": [
    "hdf_files = glob('../MOD021KM.A2024227.1515.061.2024228014041.hdf')\n",
    "len(hdf_files)"
   ]
  },
  {
   "cell_type": "code",
   "execution_count": 17,
   "id": "5d2321b8-9e6d-45b0-ad8d-95758a244e24",
   "metadata": {},
   "outputs": [
    {
     "name": "stdout",
     "output_type": "stream",
     "text": [
      "['1', '10', '11', '12', '13hi', '13lo', '14hi', '14lo', '15', '16', '17', '18', '19', '2', '20', '21', '22', '23', '24', '25', '26', '27', '28', '29', '3', '30', '31', '32', '33', '34', '35', '36', '4', '5', '6', '7', '8', '9', 'latitude', 'longitude', 'satellite_azimuth_angle', 'satellite_zenith_angle', 'solar_azimuth_angle', 'solar_zenith_angle']\n"
     ]
    }
   ],
   "source": [
    "scn = Scene(filenames=hdf_files, reader='modis_l1b')\n",
    "print(scn.available_dataset_names())"
   ]
  },
  {
   "cell_type": "code",
   "execution_count": 18,
   "id": "bd8f424f-1c99-4359-8337-9b8dec54021b",
   "metadata": {},
   "outputs": [
    {
     "ename": "HDF4Error",
     "evalue": "info (59): Invalid arguments to routine",
     "output_type": "error",
     "traceback": [
      "\u001b[1;31m---------------------------------------------------------------------------\u001b[0m",
      "\u001b[1;31mHDF4Error\u001b[0m                                 Traceback (most recent call last)",
      "Cell \u001b[1;32mIn[18], line 1\u001b[0m\n\u001b[1;32m----> 1\u001b[0m \u001b[43mscn\u001b[49m\u001b[38;5;241;43m.\u001b[39;49m\u001b[43mload\u001b[49m\u001b[43m(\u001b[49m\u001b[43m[\u001b[49m\u001b[38;5;124;43m'\u001b[39;49m\u001b[38;5;124;43m1\u001b[39;49m\u001b[38;5;124;43m'\u001b[39;49m\u001b[43m]\u001b[49m\u001b[43m)\u001b[49m\n",
      "File \u001b[1;32mC:\\ProgramData\\anaconda3\\envs\\nasa-murep\\Lib\\site-packages\\satpy\\scene.py:1456\u001b[0m, in \u001b[0;36mScene.load\u001b[1;34m(self, wishlist, calibration, resolution, polarization, level, modifiers, generate, unload, **kwargs)\u001b[0m\n\u001b[0;32m   1452\u001b[0m \u001b[38;5;28mself\u001b[39m\u001b[38;5;241m.\u001b[39m_update_dependency_tree(needed_datasets, query)\n\u001b[0;32m   1454\u001b[0m \u001b[38;5;28mself\u001b[39m\u001b[38;5;241m.\u001b[39m_wishlist \u001b[38;5;241m|\u001b[39m\u001b[38;5;241m=\u001b[39m needed_datasets\n\u001b[1;32m-> 1456\u001b[0m \u001b[38;5;28;43mself\u001b[39;49m\u001b[38;5;241;43m.\u001b[39;49m\u001b[43m_read_datasets_from_storage\u001b[49m\u001b[43m(\u001b[49m\u001b[38;5;241;43m*\u001b[39;49m\u001b[38;5;241;43m*\u001b[39;49m\u001b[43mkwargs\u001b[49m\u001b[43m)\u001b[49m\n\u001b[0;32m   1457\u001b[0m \u001b[38;5;28;01mif\u001b[39;00m generate:\n\u001b[0;32m   1458\u001b[0m     \u001b[38;5;28mself\u001b[39m\u001b[38;5;241m.\u001b[39mgenerate_possible_composites(unload)\n",
      "File \u001b[1;32mC:\\ProgramData\\anaconda3\\envs\\nasa-murep\\Lib\\site-packages\\satpy\\scene.py:1479\u001b[0m, in \u001b[0;36mScene._read_datasets_from_storage\u001b[1;34m(self, **kwargs)\u001b[0m\n\u001b[0;32m   1469\u001b[0m \u001b[38;5;250m\u001b[39m\u001b[38;5;124;03m\"\"\"Load datasets from the necessary reader.\u001b[39;00m\n\u001b[0;32m   1470\u001b[0m \n\u001b[0;32m   1471\u001b[0m \u001b[38;5;124;03mArgs:\u001b[39;00m\n\u001b[1;32m   (...)\u001b[0m\n\u001b[0;32m   1476\u001b[0m \n\u001b[0;32m   1477\u001b[0m \u001b[38;5;124;03m\"\"\"\u001b[39;00m\n\u001b[0;32m   1478\u001b[0m nodes \u001b[38;5;241m=\u001b[39m \u001b[38;5;28mself\u001b[39m\u001b[38;5;241m.\u001b[39m_dependency_tree\u001b[38;5;241m.\u001b[39mleaves(limit_nodes_to\u001b[38;5;241m=\u001b[39m\u001b[38;5;28mself\u001b[39m\u001b[38;5;241m.\u001b[39mmissing_datasets)\n\u001b[1;32m-> 1479\u001b[0m \u001b[38;5;28;01mreturn\u001b[39;00m \u001b[38;5;28;43mself\u001b[39;49m\u001b[38;5;241;43m.\u001b[39;49m\u001b[43m_read_dataset_nodes_from_storage\u001b[49m\u001b[43m(\u001b[49m\u001b[43mnodes\u001b[49m\u001b[43m,\u001b[49m\u001b[43m \u001b[49m\u001b[38;5;241;43m*\u001b[39;49m\u001b[38;5;241;43m*\u001b[39;49m\u001b[43mkwargs\u001b[49m\u001b[43m)\u001b[49m\n",
      "File \u001b[1;32mC:\\ProgramData\\anaconda3\\envs\\nasa-murep\\Lib\\site-packages\\satpy\\scene.py:1485\u001b[0m, in \u001b[0;36mScene._read_dataset_nodes_from_storage\u001b[1;34m(self, reader_nodes, **kwargs)\u001b[0m\n\u001b[0;32m   1483\u001b[0m \u001b[38;5;66;03m# Sort requested datasets by reader\u001b[39;00m\n\u001b[0;32m   1484\u001b[0m reader_datasets \u001b[38;5;241m=\u001b[39m \u001b[38;5;28mself\u001b[39m\u001b[38;5;241m.\u001b[39m_sort_dataset_nodes_by_reader(reader_nodes)\n\u001b[1;32m-> 1485\u001b[0m loaded_datasets \u001b[38;5;241m=\u001b[39m \u001b[38;5;28;43mself\u001b[39;49m\u001b[38;5;241;43m.\u001b[39;49m\u001b[43m_load_datasets_by_readers\u001b[49m\u001b[43m(\u001b[49m\u001b[43mreader_datasets\u001b[49m\u001b[43m,\u001b[49m\u001b[43m \u001b[49m\u001b[38;5;241;43m*\u001b[39;49m\u001b[38;5;241;43m*\u001b[39;49m\u001b[43mkwargs\u001b[49m\u001b[43m)\u001b[49m\n\u001b[0;32m   1486\u001b[0m \u001b[38;5;28mself\u001b[39m\u001b[38;5;241m.\u001b[39m_datasets\u001b[38;5;241m.\u001b[39mupdate(loaded_datasets)\n\u001b[0;32m   1487\u001b[0m \u001b[38;5;28;01mreturn\u001b[39;00m loaded_datasets\n",
      "File \u001b[1;32mC:\\ProgramData\\anaconda3\\envs\\nasa-murep\\Lib\\site-packages\\satpy\\scene.py:1510\u001b[0m, in \u001b[0;36mScene._load_datasets_by_readers\u001b[1;34m(self, reader_datasets, **kwargs)\u001b[0m\n\u001b[0;32m   1508\u001b[0m \u001b[38;5;28;01mfor\u001b[39;00m reader_name, ds_ids \u001b[38;5;129;01min\u001b[39;00m reader_datasets\u001b[38;5;241m.\u001b[39mitems():\n\u001b[0;32m   1509\u001b[0m     reader_instance \u001b[38;5;241m=\u001b[39m \u001b[38;5;28mself\u001b[39m\u001b[38;5;241m.\u001b[39m_readers[reader_name]\n\u001b[1;32m-> 1510\u001b[0m     new_datasets \u001b[38;5;241m=\u001b[39m \u001b[43mreader_instance\u001b[49m\u001b[38;5;241;43m.\u001b[39;49m\u001b[43mload\u001b[49m\u001b[43m(\u001b[49m\u001b[43mds_ids\u001b[49m\u001b[43m,\u001b[49m\u001b[43m \u001b[49m\u001b[38;5;241;43m*\u001b[39;49m\u001b[38;5;241;43m*\u001b[39;49m\u001b[43mkwargs\u001b[49m\u001b[43m)\u001b[49m\n\u001b[0;32m   1511\u001b[0m     loaded_datasets\u001b[38;5;241m.\u001b[39mupdate(new_datasets)\n\u001b[0;32m   1512\u001b[0m \u001b[38;5;28;01mreturn\u001b[39;00m loaded_datasets\n",
      "File \u001b[1;32mC:\\ProgramData\\anaconda3\\envs\\nasa-murep\\Lib\\site-packages\\satpy\\readers\\yaml_reader.py:948\u001b[0m, in \u001b[0;36mFileYAMLReader.load\u001b[1;34m(self, dataset_keys, previous_datasets, **kwargs)\u001b[0m\n\u001b[0;32m    945\u001b[0m     \u001b[38;5;28;01mcontinue\u001b[39;00m\n\u001b[0;32m    946\u001b[0m coords \u001b[38;5;241m=\u001b[39m [all_datasets\u001b[38;5;241m.\u001b[39mget(cid, \u001b[38;5;28;01mNone\u001b[39;00m)\n\u001b[0;32m    947\u001b[0m           \u001b[38;5;28;01mfor\u001b[39;00m cid \u001b[38;5;129;01min\u001b[39;00m coordinates\u001b[38;5;241m.\u001b[39mget(dsid, [])]\n\u001b[1;32m--> 948\u001b[0m ds \u001b[38;5;241m=\u001b[39m \u001b[38;5;28;43mself\u001b[39;49m\u001b[38;5;241;43m.\u001b[39;49m\u001b[43m_load_dataset_with_area\u001b[49m\u001b[43m(\u001b[49m\u001b[43mdsid\u001b[49m\u001b[43m,\u001b[49m\u001b[43m \u001b[49m\u001b[43mcoords\u001b[49m\u001b[43m,\u001b[49m\u001b[43m \u001b[49m\u001b[38;5;241;43m*\u001b[39;49m\u001b[38;5;241;43m*\u001b[39;49m\u001b[43mkwargs\u001b[49m\u001b[43m)\u001b[49m\n\u001b[0;32m    949\u001b[0m \u001b[38;5;28;01mif\u001b[39;00m ds \u001b[38;5;129;01mis\u001b[39;00m \u001b[38;5;129;01mnot\u001b[39;00m \u001b[38;5;28;01mNone\u001b[39;00m:\n\u001b[0;32m    950\u001b[0m     all_datasets[dsid] \u001b[38;5;241m=\u001b[39m ds\n",
      "File \u001b[1;32mC:\\ProgramData\\anaconda3\\envs\\nasa-murep\\Lib\\site-packages\\satpy\\readers\\yaml_reader.py:836\u001b[0m, in \u001b[0;36mFileYAMLReader._load_dataset_with_area\u001b[1;34m(self, dsid, coords, **kwargs)\u001b[0m\n\u001b[0;32m    833\u001b[0m     \u001b[38;5;28;01mreturn\u001b[39;00m\n\u001b[0;32m    835\u001b[0m \u001b[38;5;28;01mtry\u001b[39;00m:\n\u001b[1;32m--> 836\u001b[0m     ds \u001b[38;5;241m=\u001b[39m \u001b[38;5;28;43mself\u001b[39;49m\u001b[38;5;241;43m.\u001b[39;49m\u001b[43m_load_dataset_data\u001b[49m\u001b[43m(\u001b[49m\u001b[43mfile_handlers\u001b[49m\u001b[43m,\u001b[49m\u001b[43m \u001b[49m\u001b[43mdsid\u001b[49m\u001b[43m,\u001b[49m\u001b[43m \u001b[49m\u001b[38;5;241;43m*\u001b[39;49m\u001b[38;5;241;43m*\u001b[39;49m\u001b[43mkwargs\u001b[49m\u001b[43m)\u001b[49m\n\u001b[0;32m    837\u001b[0m \u001b[38;5;28;01mexcept\u001b[39;00m (\u001b[38;5;167;01mKeyError\u001b[39;00m, \u001b[38;5;167;01mValueError\u001b[39;00m) \u001b[38;5;28;01mas\u001b[39;00m err:\n\u001b[0;32m    838\u001b[0m     logger\u001b[38;5;241m.\u001b[39mexception(\u001b[38;5;124m\"\u001b[39m\u001b[38;5;124mCould not load dataset \u001b[39m\u001b[38;5;124m'\u001b[39m\u001b[38;5;132;01m%s\u001b[39;00m\u001b[38;5;124m'\u001b[39m\u001b[38;5;124m: \u001b[39m\u001b[38;5;132;01m%s\u001b[39;00m\u001b[38;5;124m\"\u001b[39m, dsid, \u001b[38;5;28mstr\u001b[39m(err))\n",
      "File \u001b[1;32mC:\\ProgramData\\anaconda3\\envs\\nasa-murep\\Lib\\site-packages\\satpy\\readers\\yaml_reader.py:736\u001b[0m, in \u001b[0;36mFileYAMLReader._load_dataset_data\u001b[1;34m(self, file_handlers, dsid, **kwargs)\u001b[0m\n\u001b[0;32m    734\u001b[0m \u001b[38;5;28;01mdef\u001b[39;00m \u001b[38;5;21m_load_dataset_data\u001b[39m(\u001b[38;5;28mself\u001b[39m, file_handlers, dsid, \u001b[38;5;241m*\u001b[39m\u001b[38;5;241m*\u001b[39mkwargs):\n\u001b[0;32m    735\u001b[0m     ds_info \u001b[38;5;241m=\u001b[39m \u001b[38;5;28mself\u001b[39m\u001b[38;5;241m.\u001b[39mall_ids[dsid]\n\u001b[1;32m--> 736\u001b[0m     proj \u001b[38;5;241m=\u001b[39m \u001b[38;5;28;43mself\u001b[39;49m\u001b[38;5;241;43m.\u001b[39;49m\u001b[43m_load_dataset\u001b[49m\u001b[43m(\u001b[49m\u001b[43mdsid\u001b[49m\u001b[43m,\u001b[49m\u001b[43m \u001b[49m\u001b[43mds_info\u001b[49m\u001b[43m,\u001b[49m\u001b[43m \u001b[49m\u001b[43mfile_handlers\u001b[49m\u001b[43m,\u001b[49m\u001b[43m \u001b[49m\u001b[38;5;241;43m*\u001b[39;49m\u001b[38;5;241;43m*\u001b[39;49m\u001b[43mkwargs\u001b[49m\u001b[43m)\u001b[49m\n\u001b[0;32m    737\u001b[0m     \u001b[38;5;66;03m# FIXME: areas could be concatenated here\u001b[39;00m\n\u001b[0;32m    738\u001b[0m     \u001b[38;5;66;03m# Update the metadata\u001b[39;00m\n\u001b[0;32m    739\u001b[0m     proj\u001b[38;5;241m.\u001b[39mattrs[\u001b[38;5;124m\"\u001b[39m\u001b[38;5;124mstart_time\u001b[39m\u001b[38;5;124m\"\u001b[39m] \u001b[38;5;241m=\u001b[39m file_handlers[\u001b[38;5;241m0\u001b[39m]\u001b[38;5;241m.\u001b[39mstart_time\n",
      "File \u001b[1;32mC:\\ProgramData\\anaconda3\\envs\\nasa-murep\\Lib\\site-packages\\satpy\\readers\\yaml_reader.py:712\u001b[0m, in \u001b[0;36mFileYAMLReader._load_dataset\u001b[1;34m(dsid, ds_info, file_handlers, dim, **kwargs)\u001b[0m\n\u001b[0;32m    710\u001b[0m \u001b[38;5;28;01mfor\u001b[39;00m fh \u001b[38;5;129;01min\u001b[39;00m file_handlers:\n\u001b[0;32m    711\u001b[0m     \u001b[38;5;28;01mtry\u001b[39;00m:\n\u001b[1;32m--> 712\u001b[0m         projectable \u001b[38;5;241m=\u001b[39m \u001b[43mfh\u001b[49m\u001b[38;5;241;43m.\u001b[39;49m\u001b[43mget_dataset\u001b[49m\u001b[43m(\u001b[49m\u001b[43mdsid\u001b[49m\u001b[43m,\u001b[49m\u001b[43m \u001b[49m\u001b[43mds_info\u001b[49m\u001b[43m)\u001b[49m\n\u001b[0;32m    713\u001b[0m         \u001b[38;5;28;01mif\u001b[39;00m projectable \u001b[38;5;129;01mis\u001b[39;00m \u001b[38;5;129;01mnot\u001b[39;00m \u001b[38;5;28;01mNone\u001b[39;00m:\n\u001b[0;32m    714\u001b[0m             slice_list\u001b[38;5;241m.\u001b[39mappend(projectable)\n",
      "File \u001b[1;32mC:\\ProgramData\\anaconda3\\envs\\nasa-murep\\Lib\\site-packages\\satpy\\readers\\modis_l1b.py:258\u001b[0m, in \u001b[0;36mMixedHDFEOSReader.get_dataset\u001b[1;34m(self, key, info)\u001b[0m\n\u001b[0;32m    256\u001b[0m \u001b[38;5;250m\u001b[39m\u001b[38;5;124;03m\"\"\"Get the dataset.\"\"\"\u001b[39;00m\n\u001b[0;32m    257\u001b[0m \u001b[38;5;28;01mif\u001b[39;00m key[\u001b[38;5;124m\"\u001b[39m\u001b[38;5;124mname\u001b[39m\u001b[38;5;124m\"\u001b[39m] \u001b[38;5;129;01min\u001b[39;00m HDFEOSGeoReader\u001b[38;5;241m.\u001b[39mDATASET_NAMES:\n\u001b[1;32m--> 258\u001b[0m     \u001b[38;5;28;01mreturn\u001b[39;00m \u001b[43mHDFEOSGeoReader\u001b[49m\u001b[38;5;241;43m.\u001b[39;49m\u001b[43mget_dataset\u001b[49m\u001b[43m(\u001b[49m\u001b[38;5;28;43mself\u001b[39;49m\u001b[43m,\u001b[49m\u001b[43m \u001b[49m\u001b[43mkey\u001b[49m\u001b[43m,\u001b[49m\u001b[43m \u001b[49m\u001b[43minfo\u001b[49m\u001b[43m)\u001b[49m\n\u001b[0;32m    259\u001b[0m \u001b[38;5;28;01mreturn\u001b[39;00m HDFEOSBandReader\u001b[38;5;241m.\u001b[39mget_dataset(\u001b[38;5;28mself\u001b[39m, key, info)\n",
      "File \u001b[1;32mC:\\ProgramData\\anaconda3\\envs\\nasa-murep\\Lib\\site-packages\\satpy\\readers\\hdfeos_base.py:421\u001b[0m, in \u001b[0;36mHDFEOSGeoReader.get_dataset\u001b[1;34m(self, dataset_id, dataset_info)\u001b[0m\n\u001b[0;32m    418\u001b[0m     data \u001b[38;5;241m=\u001b[39m \u001b[38;5;28mself\u001b[39m\u001b[38;5;241m.\u001b[39mload_dataset(in_file_dataset_name)\n\u001b[0;32m    419\u001b[0m \u001b[38;5;28;01melse\u001b[39;00m:\n\u001b[0;32m    420\u001b[0m     \u001b[38;5;66;03m# otherwise use the default name for this variable\u001b[39;00m\n\u001b[1;32m--> 421\u001b[0m     data \u001b[38;5;241m=\u001b[39m \u001b[38;5;28;43mself\u001b[39;49m\u001b[38;5;241;43m.\u001b[39;49m\u001b[43m_load_ds_by_name\u001b[49m\u001b[43m(\u001b[49m\u001b[43mdataset_name\u001b[49m\u001b[43m)\u001b[49m\n\u001b[0;32m    422\u001b[0m \u001b[38;5;28;01mif\u001b[39;00m resolution \u001b[38;5;241m!=\u001b[39m \u001b[38;5;28mself\u001b[39m\u001b[38;5;241m.\u001b[39mgeo_resolution:\n\u001b[0;32m    423\u001b[0m     \u001b[38;5;28;01mif\u001b[39;00m in_file_dataset_name \u001b[38;5;129;01mis\u001b[39;00m \u001b[38;5;129;01mnot\u001b[39;00m \u001b[38;5;28;01mNone\u001b[39;00m:\n\u001b[0;32m    424\u001b[0m         \u001b[38;5;66;03m# they specified a custom variable name but\u001b[39;00m\n\u001b[0;32m    425\u001b[0m         \u001b[38;5;66;03m# we don't know how to interpolate this yet\u001b[39;00m\n",
      "File \u001b[1;32mC:\\ProgramData\\anaconda3\\envs\\nasa-murep\\Lib\\site-packages\\satpy\\readers\\hdfeos_base.py:385\u001b[0m, in \u001b[0;36mHDFEOSGeoReader._load_ds_by_name\u001b[1;34m(self, ds_name)\u001b[0m\n\u001b[0;32m    383\u001b[0m     \u001b[38;5;28;01mexcept\u001b[39;00m \u001b[38;5;167;01mKeyError\u001b[39;00m:\n\u001b[0;32m    384\u001b[0m         \u001b[38;5;28;01mreturn\u001b[39;00m \u001b[38;5;28mself\u001b[39m\u001b[38;5;241m.\u001b[39mload_dataset(var_names[\u001b[38;5;241m1\u001b[39m])\n\u001b[1;32m--> 385\u001b[0m \u001b[38;5;28;01mreturn\u001b[39;00m \u001b[38;5;28;43mself\u001b[39;49m\u001b[38;5;241;43m.\u001b[39;49m\u001b[43mload_dataset\u001b[49m\u001b[43m(\u001b[49m\u001b[43mvar_names\u001b[49m\u001b[43m)\u001b[49m\n",
      "File \u001b[1;32mC:\\ProgramData\\anaconda3\\envs\\nasa-murep\\Lib\\site-packages\\satpy\\readers\\hdfeos_base.py:222\u001b[0m, in \u001b[0;36mHDFEOSBaseFileReader.load_dataset\u001b[1;34m(self, dataset_name, is_category)\u001b[0m\n\u001b[0;32m    219\u001b[0m dask_arr \u001b[38;5;241m=\u001b[39m from_sds(dataset, chunks\u001b[38;5;241m=\u001b[39mchunks)\n\u001b[0;32m    220\u001b[0m dims \u001b[38;5;241m=\u001b[39m (\u001b[38;5;124m\"\u001b[39m\u001b[38;5;124my\u001b[39m\u001b[38;5;124m\"\u001b[39m, \u001b[38;5;124m\"\u001b[39m\u001b[38;5;124mx\u001b[39m\u001b[38;5;124m\"\u001b[39m) \u001b[38;5;28;01mif\u001b[39;00m dask_arr\u001b[38;5;241m.\u001b[39mndim \u001b[38;5;241m==\u001b[39m \u001b[38;5;241m2\u001b[39m \u001b[38;5;28;01melse\u001b[39;00m \u001b[38;5;28;01mNone\u001b[39;00m\n\u001b[0;32m    221\u001b[0m data \u001b[38;5;241m=\u001b[39m xr\u001b[38;5;241m.\u001b[39mDataArray(dask_arr, dims\u001b[38;5;241m=\u001b[39mdims,\n\u001b[1;32m--> 222\u001b[0m                     attrs\u001b[38;5;241m=\u001b[39m\u001b[43mdataset\u001b[49m\u001b[38;5;241;43m.\u001b[39;49m\u001b[43mattributes\u001b[49m\u001b[43m(\u001b[49m\u001b[43m)\u001b[49m)\n\u001b[0;32m    223\u001b[0m data \u001b[38;5;241m=\u001b[39m \u001b[38;5;28mself\u001b[39m\u001b[38;5;241m.\u001b[39m_scale_and_mask_data_array(data, is_category\u001b[38;5;241m=\u001b[39mis_category)\n\u001b[0;32m    225\u001b[0m \u001b[38;5;28;01mreturn\u001b[39;00m data\n",
      "File \u001b[1;32mC:\\ProgramData\\anaconda3\\envs\\nasa-murep\\Lib\\site-packages\\pyhdf\\SD.py:2786\u001b[0m, in \u001b[0;36mSDS.attributes\u001b[1;34m(self, full)\u001b[0m\n\u001b[0;32m   2761\u001b[0m \u001b[38;5;250m\u001b[39m\u001b[38;5;124;03m\"\"\"Return a dictionary describing every attribute defined\u001b[39;00m\n\u001b[0;32m   2762\u001b[0m \u001b[38;5;124;03mon the dataset.\u001b[39;00m\n\u001b[0;32m   2763\u001b[0m \n\u001b[1;32m   (...)\u001b[0m\n\u001b[0;32m   2782\u001b[0m \u001b[38;5;124;03mC library equivalent : no equivalent\u001b[39;00m\n\u001b[0;32m   2783\u001b[0m \u001b[38;5;124;03m                                            \"\"\"\u001b[39;00m\n\u001b[0;32m   2785\u001b[0m \u001b[38;5;66;03m# Get the number of dataset attributes.\u001b[39;00m\n\u001b[1;32m-> 2786\u001b[0m natts \u001b[38;5;241m=\u001b[39m \u001b[38;5;28;43mself\u001b[39;49m\u001b[38;5;241;43m.\u001b[39;49m\u001b[43minfo\u001b[49m\u001b[43m(\u001b[49m\u001b[43m)\u001b[49m[\u001b[38;5;241m4\u001b[39m]\n\u001b[0;32m   2788\u001b[0m \u001b[38;5;66;03m# Inquire each attribute\u001b[39;00m\n\u001b[0;32m   2789\u001b[0m res \u001b[38;5;241m=\u001b[39m {}\n",
      "File \u001b[1;32mC:\\ProgramData\\anaconda3\\envs\\nasa-murep\\Lib\\site-packages\\pyhdf\\SD.py:2128\u001b[0m, in \u001b[0;36mSDS.info\u001b[1;34m(self)\u001b[0m\n\u001b[0;32m   2125\u001b[0m buf \u001b[38;5;241m=\u001b[39m _C\u001b[38;5;241m.\u001b[39marray_int32(_C\u001b[38;5;241m.\u001b[39mH4_MAX_VAR_DIMS)\n\u001b[0;32m   2126\u001b[0m status, sds_name, rank, data_type, n_attrs \u001b[38;5;241m=\u001b[39m \\\n\u001b[0;32m   2127\u001b[0m         _C\u001b[38;5;241m.\u001b[39mSDgetinfo(\u001b[38;5;28mself\u001b[39m\u001b[38;5;241m.\u001b[39m_id, buf)\n\u001b[1;32m-> 2128\u001b[0m \u001b[43m_checkErr\u001b[49m\u001b[43m(\u001b[49m\u001b[38;5;124;43m'\u001b[39;49m\u001b[38;5;124;43minfo\u001b[39;49m\u001b[38;5;124;43m'\u001b[39;49m\u001b[43m,\u001b[49m\u001b[43m \u001b[49m\u001b[43mstatus\u001b[49m\u001b[43m,\u001b[49m\u001b[43m \u001b[49m\u001b[38;5;124;43m\"\u001b[39;49m\u001b[38;5;124;43mcannot execute\u001b[39;49m\u001b[38;5;124;43m\"\u001b[39;49m\u001b[43m)\u001b[49m\n\u001b[0;32m   2129\u001b[0m dim_sizes \u001b[38;5;241m=\u001b[39m _array_to_ret(buf, rank)\n\u001b[0;32m   2130\u001b[0m \u001b[38;5;28;01mreturn\u001b[39;00m sds_name, rank, dim_sizes, data_type, n_attrs\n",
      "File \u001b[1;32mC:\\ProgramData\\anaconda3\\envs\\nasa-murep\\Lib\\site-packages\\pyhdf\\error.py:23\u001b[0m, in \u001b[0;36m_checkErr\u001b[1;34m(procName, val, msg)\u001b[0m\n\u001b[0;32m     21\u001b[0m \u001b[38;5;28;01melse\u001b[39;00m:\n\u001b[0;32m     22\u001b[0m     err \u001b[38;5;241m=\u001b[39m \u001b[38;5;124m\"\u001b[39m\u001b[38;5;132;01m%s\u001b[39;00m\u001b[38;5;124m : \u001b[39m\u001b[38;5;132;01m%s\u001b[39;00m\u001b[38;5;124m\"\u001b[39m \u001b[38;5;241m%\u001b[39m (procName, msg)\n\u001b[1;32m---> 23\u001b[0m \u001b[38;5;28;01mraise\u001b[39;00m HDF4Error(err)\n",
      "\u001b[1;31mHDF4Error\u001b[0m: info (59): Invalid arguments to routine"
     ]
    }
   ],
   "source": [
    "scn.load(['1'])"
   ]
  }
 ],
 "metadata": {
  "kernelspec": {
   "display_name": "Python 3 (ipykernel)",
   "language": "python",
   "name": "python3"
  },
  "language_info": {
   "codemirror_mode": {
    "name": "ipython",
    "version": 3
   },
   "file_extension": ".py",
   "mimetype": "text/x-python",
   "name": "python",
   "nbconvert_exporter": "python",
   "pygments_lexer": "ipython3",
   "version": "3.12.5"
  }
 },
 "nbformat": 4,
 "nbformat_minor": 5
}
