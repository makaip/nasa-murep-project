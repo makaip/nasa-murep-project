{
 "cells": [
  {
   "cell_type": "code",
   "execution_count": 1,
   "id": "3c93fb29-211d-41d5-a019-096a2bc98eb2",
   "metadata": {},
   "outputs": [],
   "source": [
    "bbox = [-94, -88, 27.5, 30.5]"
   ]
  },
  {
   "cell_type": "code",
   "execution_count": 1,
   "id": "4444a40f-6927-4044-8859-3259c296d205",
   "metadata": {},
   "outputs": [
    {
     "ename": "ModuleNotFoundError",
     "evalue": "No module named 'satpy'",
     "output_type": "error",
     "traceback": [
      "\u001b[1;31m---------------------------------------------------------------------------\u001b[0m",
      "\u001b[1;31mModuleNotFoundError\u001b[0m                       Traceback (most recent call last)",
      "Cell \u001b[1;32mIn[1], line 1\u001b[0m\n\u001b[1;32m----> 1\u001b[0m \u001b[38;5;28;01mfrom\u001b[39;00m \u001b[38;5;21;01msatpy\u001b[39;00m \u001b[38;5;28;01mimport\u001b[39;00m Scene, find_files_and_readers\n\u001b[0;32m      2\u001b[0m \u001b[38;5;28;01mfrom\u001b[39;00m \u001b[38;5;21;01mpyresample\u001b[39;00m \u001b[38;5;28;01mimport\u001b[39;00m create_area_def\n\u001b[0;32m      3\u001b[0m \u001b[38;5;28;01mfrom\u001b[39;00m \u001b[38;5;21;01mpyresample\u001b[39;00m\u001b[38;5;21;01m.\u001b[39;00m\u001b[38;5;21;01mgeometry\u001b[39;00m \u001b[38;5;28;01mimport\u001b[39;00m AreaDefinition\n",
      "\u001b[1;31mModuleNotFoundError\u001b[0m: No module named 'satpy'"
     ]
    }
   ],
   "source": [
    "from satpy import Scene, find_files_and_readers\n",
    "from pyresample import create_area_def\n",
    "from pyresample.geometry import AreaDefinition\n",
    "\n",
    "import pyhdf\n",
    "from satpy.writers import get_enhanced_image\n",
    "from datetime import datetime\n",
    "import math\n",
    "\n",
    "import matplotlib.pyplot as plt\n",
    "import numpy as np\n",
    "import xarray as xr\n",
    "from glob import glob\n",
    "\n",
    "import cartopy.crs as ccrs\n",
    "import cartopy.feature as cfeature\n",
    "from cartopy.mpl.gridliner import LONGITUDE_FORMATTER, LATITUDE_FORMATTER\n",
    "\n",
    "from satpy import MultiScene\n",
    "from satpy.multiscene import timeseries\n",
    "\n",
    "%matplotlib inline\n",
    "import cmocean\n",
    "import cmocean.cm as cmo\n",
    "\n",
    "from dask.diagnostics import ProgressBar"
   ]
  },
  {
   "cell_type": "code",
   "execution_count": 2,
   "id": "cfdf4e1c-0a21-42b8-9484-270a434b39fc",
   "metadata": {},
   "outputs": [],
   "source": [
    "from satpy import Scene, find_files_and_readers, available_readers\n",
    "from glob import glob"
   ]
  },
  {
   "cell_type": "markdown",
   "id": "1ea885c5-2618-4d14-96f8-3abebfae727a",
   "metadata": {},
   "source": [
    "## Plot Sea Surface Temperature\n",
    "\n",
    "Using channel 32"
   ]
  },
  {
   "cell_type": "code",
   "execution_count": 3,
   "id": "5fdcae0d-bde0-479e-a1e2-426b128d2ddd",
   "metadata": {
    "scrolled": true
   },
   "outputs": [
    {
     "data": {
      "text/plain": [
       "['../downloads\\\\MOD021KM.A2024245.1550.061.2024247173034.hdf',\n",
       " '../downloads\\\\MOD021KM.A2024245.1555.061.2024247170950.hdf',\n",
       " '../downloads\\\\MOD021KM.A2024246.1630.061.2024247174503.hdf',\n",
       " '../downloads\\\\MOD021KM.A2024246.1635.061.2024247174503.hdf',\n",
       " '../downloads\\\\MOD021KM.A2024247.1535.061.2024248020744.hdf',\n",
       " '../downloads\\\\MOD021KM.A2024247.1710.061.2024248020521.hdf',\n",
       " '../downloads\\\\MOD021KM.A2024248.1615.061.2024249011823.hdf',\n",
       " '../downloads\\\\MOD021KM.A2024249.1515.061.2024250014932.hdf',\n",
       " '../downloads\\\\MOD021KM.A2024249.1655.061.2024250013831.hdf',\n",
       " '../downloads\\\\MOD021KM.A2024250.1555.061.2024251013343.hdf',\n",
       " '../downloads\\\\MOD021KM.A2024250.1600.061.2024251013312.hdf',\n",
       " '../downloads\\\\MOD021KM.A2024251.1500.061.2024252013257.hdf',\n",
       " '../downloads\\\\MOD021KM.A2024251.1635.061.2024252013307.hdf',\n",
       " '../downloads\\\\MOD021KM.A2024251.1640.061.2024252013256.hdf',\n",
       " '../downloads\\\\MOD021KM.A2024252.1540.061.2024253013432.hdf',\n",
       " '../downloads\\\\MOD021KM.A2024252.1715.061.2024253013435.hdf',\n",
       " '../downloads\\\\MOD021KM.A2024253.1620.061.2024254011353.hdf',\n",
       " '../downloads\\\\MOD021KM.A2024254.1520.061.2024255013041.hdf',\n",
       " '../downloads\\\\MOD021KM.A2024254.1700.061.2024255013010.hdf',\n",
       " '../downloads\\\\MOD021KM.A2024255.1600.061.2024258031543.hdf',\n",
       " '../downloads\\\\MOD021KM.A2024256.1500.061.2024257013638.hdf',\n",
       " '../downloads\\\\MOD021KM.A2024256.1505.061.2024257013543.hdf',\n",
       " '../downloads\\\\MOD021KM.A2024256.1640.061.2024257013602.hdf',\n",
       " '../downloads\\\\MOD021KM.A2024257.1540.061.2024258013510.hdf',\n",
       " '../downloads\\\\MOD021KM.A2024257.1545.061.2024258013305.hdf',\n",
       " '../downloads\\\\MOD021KM.A2024257.1720.061.2024258013305.hdf',\n",
       " '../downloads\\\\MOD021KM.A2024258.1620.061.2024259042911.hdf',\n",
       " '../downloads\\\\MOD021KM.A2024258.1625.061.2024259042848.hdf']"
      ]
     },
     "execution_count": 3,
     "metadata": {},
     "output_type": "execute_result"
    }
   ],
   "source": [
    "hdf_files = glob('../downloads/*.hdf')\n",
    "hdf_files"
   ]
  },
  {
   "cell_type": "code",
   "execution_count": 4,
   "id": "f9e48037-a002-4e69-8ff6-47e3f0f050d9",
   "metadata": {
    "collapsed": true,
    "jupyter": {
     "outputs_hidden": true
    },
    "scrolled": true
   },
   "outputs": [
    {
     "name": "stderr",
     "output_type": "stream",
     "text": [
      "C:\\Users\\Makai\\AppData\\Roaming\\Python\\Python312\\site-packages\\dask\\dataframe\\__init__.py:42: FutureWarning: \n",
      "Dask dataframe query planning is disabled because dask-expr is not installed.\n",
      "\n",
      "You can install it with `pip install dask[dataframe]` or `conda install dask`.\n",
      "This will raise in a future version.\n",
      "\n",
      "  warnings.warn(msg, FutureWarning)\n"
     ]
    },
    {
     "data": {
      "text/plain": [
       "['abi_l1b',\n",
       " 'abi_l1b_scmi',\n",
       " 'abi_l2_nc',\n",
       " 'ahi_hrit',\n",
       " 'ahi_hsd',\n",
       " 'ahi_l1b_gridded_bin',\n",
       " 'ahi_l2_nc',\n",
       " 'amsr2_l2_gaasp',\n",
       " 'amsub_l1c_aapp',\n",
       " 'avhrr_l1b_aapp',\n",
       " 'avhrr_l1c_eum_gac_fdr_nc',\n",
       " 'electrol_hrit',\n",
       " 'ghrsst_l2',\n",
       " 'gld360_ualf2',\n",
       " 'glm_l2',\n",
       " 'goes-imager_hrit',\n",
       " 'goes-imager_nc',\n",
       " 'jami_hrit',\n",
       " 'meris_nc_sen3',\n",
       " 'mhs_l1c_aapp',\n",
       " 'mirs',\n",
       " 'mtsat2-imager_hrit',\n",
       " 'mviri_l1b_fiduceo_nc',\n",
       " 'nwcsaf-geo',\n",
       " 'nwcsaf-pps_nc',\n",
       " 'olci_l1b',\n",
       " 'olci_l2',\n",
       " 'safe_sar_l2_ocn',\n",
       " 'satpy_cf_nc',\n",
       " 'seviri_l1b_hrit',\n",
       " 'seviri_l1b_native',\n",
       " 'seviri_l1b_nc',\n",
       " 'slstr_l1b',\n",
       " 'viirs_edr',\n",
       " 'viirs_vgac_l1c_nc']"
      ]
     },
     "execution_count": 4,
     "metadata": {},
     "output_type": "execute_result"
    }
   ],
   "source": [
    "available_readers()"
   ]
  },
  {
   "cell_type": "code",
   "execution_count": 5,
   "id": "46553686-13cf-4ba5-8dff-f9332b9c71cb",
   "metadata": {},
   "outputs": [
    {
     "name": "stderr",
     "output_type": "stream",
     "text": [
      "INFO:satpy.readers:Cannot use ['C:\\\\Users\\\\Makai\\\\AppData\\\\Roaming\\\\Python\\\\Python312\\\\site-packages\\\\satpy\\\\etc\\\\readers\\\\modis_l1b.yaml']\n",
      "WARNING:satpy.readers:Don't know how to open the following files: {'../downloads\\\\MOD021KM.A2024256.1500.061.2024257013638.hdf', '../downloads\\\\MOD021KM.A2024252.1715.061.2024253013435.hdf', '../downloads\\\\MOD021KM.A2024251.1500.061.2024252013257.hdf', '../downloads\\\\MOD021KM.A2024251.1635.061.2024252013307.hdf', '../downloads\\\\MOD021KM.A2024246.1635.061.2024247174503.hdf', '../downloads\\\\MOD021KM.A2024257.1720.061.2024258013305.hdf', '../downloads\\\\MOD021KM.A2024254.1700.061.2024255013010.hdf', '../downloads\\\\MOD021KM.A2024246.1630.061.2024247174503.hdf', '../downloads\\\\MOD021KM.A2024253.1620.061.2024254011353.hdf', '../downloads\\\\MOD021KM.A2024247.1535.061.2024248020744.hdf', '../downloads\\\\MOD021KM.A2024258.1620.061.2024259042911.hdf', '../downloads\\\\MOD021KM.A2024256.1640.061.2024257013602.hdf', '../downloads\\\\MOD021KM.A2024254.1520.061.2024255013041.hdf', '../downloads\\\\MOD021KM.A2024258.1625.061.2024259042848.hdf', '../downloads\\\\MOD021KM.A2024257.1545.061.2024258013305.hdf', '../downloads\\\\MOD021KM.A2024249.1515.061.2024250014932.hdf', '../downloads\\\\MOD021KM.A2024257.1540.061.2024258013510.hdf', '../downloads\\\\MOD021KM.A2024250.1555.061.2024251013343.hdf', '../downloads\\\\MOD021KM.A2024249.1655.061.2024250013831.hdf', '../downloads\\\\MOD021KM.A2024255.1600.061.2024258031543.hdf', '../downloads\\\\MOD021KM.A2024247.1710.061.2024248020521.hdf', '../downloads\\\\MOD021KM.A2024250.1600.061.2024251013312.hdf', '../downloads\\\\MOD021KM.A2024256.1505.061.2024257013543.hdf', '../downloads\\\\MOD021KM.A2024245.1550.061.2024247173034.hdf', '../downloads\\\\MOD021KM.A2024251.1640.061.2024252013256.hdf', '../downloads\\\\MOD021KM.A2024245.1555.061.2024247170950.hdf', '../downloads\\\\MOD021KM.A2024252.1540.061.2024253013432.hdf', '../downloads\\\\MOD021KM.A2024248.1615.061.2024249011823.hdf'}\n"
     ]
    },
    {
     "ename": "ValueError",
     "evalue": "No supported files found",
     "output_type": "error",
     "traceback": [
      "\u001b[1;31m---------------------------------------------------------------------------\u001b[0m",
      "\u001b[1;31mValueError\u001b[0m                                Traceback (most recent call last)",
      "Cell \u001b[1;32mIn[5], line 1\u001b[0m\n\u001b[1;32m----> 1\u001b[0m scn \u001b[38;5;241m=\u001b[39m \u001b[43mScene\u001b[49m\u001b[43m(\u001b[49m\u001b[43mreader\u001b[49m\u001b[38;5;241;43m=\u001b[39;49m\u001b[38;5;124;43m'\u001b[39;49m\u001b[38;5;124;43mmodis_l1b\u001b[39;49m\u001b[38;5;124;43m'\u001b[39;49m\u001b[43m,\u001b[49m\u001b[43m \u001b[49m\u001b[43mfilenames\u001b[49m\u001b[38;5;241;43m=\u001b[39;49m\u001b[43mhdf_files\u001b[49m\u001b[43m)\u001b[49m\n",
      "File \u001b[1;32m~\\AppData\\Roaming\\Python\\Python312\\site-packages\\satpy\\scene.py:155\u001b[0m, in \u001b[0;36mScene.__init__\u001b[1;34m(self, filenames, reader, filter_parameters, reader_kwargs)\u001b[0m\n\u001b[0;32m    152\u001b[0m \u001b[38;5;28;01mif\u001b[39;00m filenames:\n\u001b[0;32m    153\u001b[0m     filenames \u001b[38;5;241m=\u001b[39m convert_remote_files_to_fsspec(filenames, storage_options)\n\u001b[1;32m--> 155\u001b[0m \u001b[38;5;28mself\u001b[39m\u001b[38;5;241m.\u001b[39m_readers \u001b[38;5;241m=\u001b[39m \u001b[38;5;28;43mself\u001b[39;49m\u001b[38;5;241;43m.\u001b[39;49m\u001b[43m_create_reader_instances\u001b[49m\u001b[43m(\u001b[49m\u001b[43mfilenames\u001b[49m\u001b[38;5;241;43m=\u001b[39;49m\u001b[43mfilenames\u001b[49m\u001b[43m,\u001b[49m\n\u001b[0;32m    156\u001b[0m \u001b[43m                                              \u001b[49m\u001b[43mreader\u001b[49m\u001b[38;5;241;43m=\u001b[39;49m\u001b[43mreader\u001b[49m\u001b[43m,\u001b[49m\n\u001b[0;32m    157\u001b[0m \u001b[43m                                              \u001b[49m\u001b[43mreader_kwargs\u001b[49m\u001b[38;5;241;43m=\u001b[39;49m\u001b[43mcleaned_reader_kwargs\u001b[49m\u001b[43m)\u001b[49m\n\u001b[0;32m    158\u001b[0m \u001b[38;5;28mself\u001b[39m\u001b[38;5;241m.\u001b[39m_datasets \u001b[38;5;241m=\u001b[39m DatasetDict()\n\u001b[0;32m    159\u001b[0m \u001b[38;5;28mself\u001b[39m\u001b[38;5;241m.\u001b[39m_wishlist \u001b[38;5;241m=\u001b[39m \u001b[38;5;28mset\u001b[39m()\n",
      "File \u001b[1;32m~\\AppData\\Roaming\\Python\\Python312\\site-packages\\satpy\\scene.py:176\u001b[0m, in \u001b[0;36mScene._create_reader_instances\u001b[1;34m(self, filenames, reader, reader_kwargs)\u001b[0m\n\u001b[0;32m    171\u001b[0m \u001b[38;5;28;01mdef\u001b[39;00m \u001b[38;5;21m_create_reader_instances\u001b[39m(\u001b[38;5;28mself\u001b[39m,\n\u001b[0;32m    172\u001b[0m                              filenames\u001b[38;5;241m=\u001b[39m\u001b[38;5;28;01mNone\u001b[39;00m,\n\u001b[0;32m    173\u001b[0m                              reader\u001b[38;5;241m=\u001b[39m\u001b[38;5;28;01mNone\u001b[39;00m,\n\u001b[0;32m    174\u001b[0m                              reader_kwargs\u001b[38;5;241m=\u001b[39m\u001b[38;5;28;01mNone\u001b[39;00m):\n\u001b[0;32m    175\u001b[0m \u001b[38;5;250m    \u001b[39m\u001b[38;5;124;03m\"\"\"Find readers and return their instances.\"\"\"\u001b[39;00m\n\u001b[1;32m--> 176\u001b[0m     \u001b[38;5;28;01mreturn\u001b[39;00m \u001b[43mload_readers\u001b[49m\u001b[43m(\u001b[49m\u001b[43mfilenames\u001b[49m\u001b[38;5;241;43m=\u001b[39;49m\u001b[43mfilenames\u001b[49m\u001b[43m,\u001b[49m\n\u001b[0;32m    177\u001b[0m \u001b[43m                        \u001b[49m\u001b[43mreader\u001b[49m\u001b[38;5;241;43m=\u001b[39;49m\u001b[43mreader\u001b[49m\u001b[43m,\u001b[49m\n\u001b[0;32m    178\u001b[0m \u001b[43m                        \u001b[49m\u001b[43mreader_kwargs\u001b[49m\u001b[38;5;241;43m=\u001b[39;49m\u001b[43mreader_kwargs\u001b[49m\u001b[43m)\u001b[49m\n",
      "File \u001b[1;32m~\\AppData\\Roaming\\Python\\Python312\\site-packages\\satpy\\readers\\__init__.py:589\u001b[0m, in \u001b[0;36mload_readers\u001b[1;34m(filenames, reader, reader_kwargs)\u001b[0m\n\u001b[0;32m    586\u001b[0m         \u001b[38;5;28;01mbreak\u001b[39;00m\n\u001b[0;32m    588\u001b[0m _check_remaining_files(remaining_filenames)\n\u001b[1;32m--> 589\u001b[0m \u001b[43m_check_reader_instances\u001b[49m\u001b[43m(\u001b[49m\u001b[43mreader_instances\u001b[49m\u001b[43m)\u001b[49m\n\u001b[0;32m    590\u001b[0m \u001b[38;5;28;01mreturn\u001b[39;00m reader_instances\n",
      "File \u001b[1;32m~\\AppData\\Roaming\\Python\\Python312\\site-packages\\satpy\\readers\\__init__.py:628\u001b[0m, in \u001b[0;36m_check_reader_instances\u001b[1;34m(reader_instances)\u001b[0m\n\u001b[0;32m    626\u001b[0m \u001b[38;5;28;01mdef\u001b[39;00m \u001b[38;5;21m_check_reader_instances\u001b[39m(reader_instances):\n\u001b[0;32m    627\u001b[0m     \u001b[38;5;28;01mif\u001b[39;00m \u001b[38;5;129;01mnot\u001b[39;00m reader_instances:\n\u001b[1;32m--> 628\u001b[0m         \u001b[38;5;28;01mraise\u001b[39;00m \u001b[38;5;167;01mValueError\u001b[39;00m(\u001b[38;5;124m\"\u001b[39m\u001b[38;5;124mNo supported files found\u001b[39m\u001b[38;5;124m\"\u001b[39m)\n\u001b[0;32m    629\u001b[0m     \u001b[38;5;28;01mif\u001b[39;00m \u001b[38;5;129;01mnot\u001b[39;00m \u001b[38;5;28many\u001b[39m(\u001b[38;5;28mlist\u001b[39m(r\u001b[38;5;241m.\u001b[39mavailable_dataset_ids) \u001b[38;5;28;01mfor\u001b[39;00m r \u001b[38;5;129;01min\u001b[39;00m reader_instances\u001b[38;5;241m.\u001b[39mvalues()):\n\u001b[0;32m    630\u001b[0m         \u001b[38;5;28;01mraise\u001b[39;00m \u001b[38;5;167;01mValueError\u001b[39;00m(\u001b[38;5;124m\"\u001b[39m\u001b[38;5;124mNo dataset could be loaded. Either missing \u001b[39m\u001b[38;5;124m\"\u001b[39m\n\u001b[0;32m    631\u001b[0m                          \u001b[38;5;124m\"\u001b[39m\u001b[38;5;124mrequirements (such as Epilog, Prolog) or none of the \u001b[39m\u001b[38;5;124m\"\u001b[39m\n\u001b[0;32m    632\u001b[0m                          \u001b[38;5;124m\"\u001b[39m\u001b[38;5;124mprovided files match the filter parameters.\u001b[39m\u001b[38;5;124m\"\u001b[39m)\n",
      "\u001b[1;31mValueError\u001b[0m: No supported files found"
     ]
    }
   ],
   "source": [
    "scn = Scene(reader='modis_l1b', filenames=hdf_files)"
   ]
  },
  {
   "cell_type": "code",
   "execution_count": 4,
   "id": "3e36d0b1-9331-4794-90af-fa5726bf10e3",
   "metadata": {
    "scrolled": true
   },
   "outputs": [
    {
     "ename": "HDF4Error",
     "evalue": "info (59): Invalid arguments to routine",
     "output_type": "error",
     "traceback": [
      "\u001b[1;31m---------------------------------------------------------------------------\u001b[0m",
      "\u001b[1;31mHDF4Error\u001b[0m                                 Traceback (most recent call last)",
      "Cell \u001b[1;32mIn[4], line 2\u001b[0m\n\u001b[0;32m      1\u001b[0m my_channel \u001b[38;5;241m=\u001b[39m \u001b[38;5;124m'\u001b[39m\u001b[38;5;124m32\u001b[39m\u001b[38;5;124m'\u001b[39m\n\u001b[1;32m----> 2\u001b[0m \u001b[43mscn\u001b[49m\u001b[38;5;241;43m.\u001b[39;49m\u001b[43mload\u001b[49m\u001b[43m(\u001b[49m\u001b[43m[\u001b[49m\u001b[43mmy_channel\u001b[49m\u001b[43m]\u001b[49m\u001b[43m)\u001b[49m\n\u001b[0;32m      3\u001b[0m scn[my_channel]\n",
      "File \u001b[1;32m~\\.conda\\envs\\nasa-murep\\Lib\\site-packages\\satpy\\scene.py:1456\u001b[0m, in \u001b[0;36mScene.load\u001b[1;34m(self, wishlist, calibration, resolution, polarization, level, modifiers, generate, unload, **kwargs)\u001b[0m\n\u001b[0;32m   1452\u001b[0m \u001b[38;5;28mself\u001b[39m\u001b[38;5;241m.\u001b[39m_update_dependency_tree(needed_datasets, query)\n\u001b[0;32m   1454\u001b[0m \u001b[38;5;28mself\u001b[39m\u001b[38;5;241m.\u001b[39m_wishlist \u001b[38;5;241m|\u001b[39m\u001b[38;5;241m=\u001b[39m needed_datasets\n\u001b[1;32m-> 1456\u001b[0m \u001b[38;5;28;43mself\u001b[39;49m\u001b[38;5;241;43m.\u001b[39;49m\u001b[43m_read_datasets_from_storage\u001b[49m\u001b[43m(\u001b[49m\u001b[38;5;241;43m*\u001b[39;49m\u001b[38;5;241;43m*\u001b[39;49m\u001b[43mkwargs\u001b[49m\u001b[43m)\u001b[49m\n\u001b[0;32m   1457\u001b[0m \u001b[38;5;28;01mif\u001b[39;00m generate:\n\u001b[0;32m   1458\u001b[0m     \u001b[38;5;28mself\u001b[39m\u001b[38;5;241m.\u001b[39mgenerate_possible_composites(unload)\n",
      "File \u001b[1;32m~\\.conda\\envs\\nasa-murep\\Lib\\site-packages\\satpy\\scene.py:1479\u001b[0m, in \u001b[0;36mScene._read_datasets_from_storage\u001b[1;34m(self, **kwargs)\u001b[0m\n\u001b[0;32m   1469\u001b[0m \u001b[38;5;250m\u001b[39m\u001b[38;5;124;03m\"\"\"Load datasets from the necessary reader.\u001b[39;00m\n\u001b[0;32m   1470\u001b[0m \n\u001b[0;32m   1471\u001b[0m \u001b[38;5;124;03mArgs:\u001b[39;00m\n\u001b[1;32m   (...)\u001b[0m\n\u001b[0;32m   1476\u001b[0m \n\u001b[0;32m   1477\u001b[0m \u001b[38;5;124;03m\"\"\"\u001b[39;00m\n\u001b[0;32m   1478\u001b[0m nodes \u001b[38;5;241m=\u001b[39m \u001b[38;5;28mself\u001b[39m\u001b[38;5;241m.\u001b[39m_dependency_tree\u001b[38;5;241m.\u001b[39mleaves(limit_nodes_to\u001b[38;5;241m=\u001b[39m\u001b[38;5;28mself\u001b[39m\u001b[38;5;241m.\u001b[39mmissing_datasets)\n\u001b[1;32m-> 1479\u001b[0m \u001b[38;5;28;01mreturn\u001b[39;00m \u001b[38;5;28;43mself\u001b[39;49m\u001b[38;5;241;43m.\u001b[39;49m\u001b[43m_read_dataset_nodes_from_storage\u001b[49m\u001b[43m(\u001b[49m\u001b[43mnodes\u001b[49m\u001b[43m,\u001b[49m\u001b[43m \u001b[49m\u001b[38;5;241;43m*\u001b[39;49m\u001b[38;5;241;43m*\u001b[39;49m\u001b[43mkwargs\u001b[49m\u001b[43m)\u001b[49m\n",
      "File \u001b[1;32m~\\.conda\\envs\\nasa-murep\\Lib\\site-packages\\satpy\\scene.py:1485\u001b[0m, in \u001b[0;36mScene._read_dataset_nodes_from_storage\u001b[1;34m(self, reader_nodes, **kwargs)\u001b[0m\n\u001b[0;32m   1483\u001b[0m \u001b[38;5;66;03m# Sort requested datasets by reader\u001b[39;00m\n\u001b[0;32m   1484\u001b[0m reader_datasets \u001b[38;5;241m=\u001b[39m \u001b[38;5;28mself\u001b[39m\u001b[38;5;241m.\u001b[39m_sort_dataset_nodes_by_reader(reader_nodes)\n\u001b[1;32m-> 1485\u001b[0m loaded_datasets \u001b[38;5;241m=\u001b[39m \u001b[38;5;28;43mself\u001b[39;49m\u001b[38;5;241;43m.\u001b[39;49m\u001b[43m_load_datasets_by_readers\u001b[49m\u001b[43m(\u001b[49m\u001b[43mreader_datasets\u001b[49m\u001b[43m,\u001b[49m\u001b[43m \u001b[49m\u001b[38;5;241;43m*\u001b[39;49m\u001b[38;5;241;43m*\u001b[39;49m\u001b[43mkwargs\u001b[49m\u001b[43m)\u001b[49m\n\u001b[0;32m   1486\u001b[0m \u001b[38;5;28mself\u001b[39m\u001b[38;5;241m.\u001b[39m_datasets\u001b[38;5;241m.\u001b[39mupdate(loaded_datasets)\n\u001b[0;32m   1487\u001b[0m \u001b[38;5;28;01mreturn\u001b[39;00m loaded_datasets\n",
      "File \u001b[1;32m~\\.conda\\envs\\nasa-murep\\Lib\\site-packages\\satpy\\scene.py:1510\u001b[0m, in \u001b[0;36mScene._load_datasets_by_readers\u001b[1;34m(self, reader_datasets, **kwargs)\u001b[0m\n\u001b[0;32m   1508\u001b[0m \u001b[38;5;28;01mfor\u001b[39;00m reader_name, ds_ids \u001b[38;5;129;01min\u001b[39;00m reader_datasets\u001b[38;5;241m.\u001b[39mitems():\n\u001b[0;32m   1509\u001b[0m     reader_instance \u001b[38;5;241m=\u001b[39m \u001b[38;5;28mself\u001b[39m\u001b[38;5;241m.\u001b[39m_readers[reader_name]\n\u001b[1;32m-> 1510\u001b[0m     new_datasets \u001b[38;5;241m=\u001b[39m \u001b[43mreader_instance\u001b[49m\u001b[38;5;241;43m.\u001b[39;49m\u001b[43mload\u001b[49m\u001b[43m(\u001b[49m\u001b[43mds_ids\u001b[49m\u001b[43m,\u001b[49m\u001b[43m \u001b[49m\u001b[38;5;241;43m*\u001b[39;49m\u001b[38;5;241;43m*\u001b[39;49m\u001b[43mkwargs\u001b[49m\u001b[43m)\u001b[49m\n\u001b[0;32m   1511\u001b[0m     loaded_datasets\u001b[38;5;241m.\u001b[39mupdate(new_datasets)\n\u001b[0;32m   1512\u001b[0m \u001b[38;5;28;01mreturn\u001b[39;00m loaded_datasets\n",
      "File \u001b[1;32m~\\.conda\\envs\\nasa-murep\\Lib\\site-packages\\satpy\\readers\\yaml_reader.py:948\u001b[0m, in \u001b[0;36mFileYAMLReader.load\u001b[1;34m(self, dataset_keys, previous_datasets, **kwargs)\u001b[0m\n\u001b[0;32m    945\u001b[0m     \u001b[38;5;28;01mcontinue\u001b[39;00m\n\u001b[0;32m    946\u001b[0m coords \u001b[38;5;241m=\u001b[39m [all_datasets\u001b[38;5;241m.\u001b[39mget(cid, \u001b[38;5;28;01mNone\u001b[39;00m)\n\u001b[0;32m    947\u001b[0m           \u001b[38;5;28;01mfor\u001b[39;00m cid \u001b[38;5;129;01min\u001b[39;00m coordinates\u001b[38;5;241m.\u001b[39mget(dsid, [])]\n\u001b[1;32m--> 948\u001b[0m ds \u001b[38;5;241m=\u001b[39m \u001b[38;5;28;43mself\u001b[39;49m\u001b[38;5;241;43m.\u001b[39;49m\u001b[43m_load_dataset_with_area\u001b[49m\u001b[43m(\u001b[49m\u001b[43mdsid\u001b[49m\u001b[43m,\u001b[49m\u001b[43m \u001b[49m\u001b[43mcoords\u001b[49m\u001b[43m,\u001b[49m\u001b[43m \u001b[49m\u001b[38;5;241;43m*\u001b[39;49m\u001b[38;5;241;43m*\u001b[39;49m\u001b[43mkwargs\u001b[49m\u001b[43m)\u001b[49m\n\u001b[0;32m    949\u001b[0m \u001b[38;5;28;01mif\u001b[39;00m ds \u001b[38;5;129;01mis\u001b[39;00m \u001b[38;5;129;01mnot\u001b[39;00m \u001b[38;5;28;01mNone\u001b[39;00m:\n\u001b[0;32m    950\u001b[0m     all_datasets[dsid] \u001b[38;5;241m=\u001b[39m ds\n",
      "File \u001b[1;32m~\\.conda\\envs\\nasa-murep\\Lib\\site-packages\\satpy\\readers\\yaml_reader.py:836\u001b[0m, in \u001b[0;36mFileYAMLReader._load_dataset_with_area\u001b[1;34m(self, dsid, coords, **kwargs)\u001b[0m\n\u001b[0;32m    833\u001b[0m     \u001b[38;5;28;01mreturn\u001b[39;00m\n\u001b[0;32m    835\u001b[0m \u001b[38;5;28;01mtry\u001b[39;00m:\n\u001b[1;32m--> 836\u001b[0m     ds \u001b[38;5;241m=\u001b[39m \u001b[38;5;28;43mself\u001b[39;49m\u001b[38;5;241;43m.\u001b[39;49m\u001b[43m_load_dataset_data\u001b[49m\u001b[43m(\u001b[49m\u001b[43mfile_handlers\u001b[49m\u001b[43m,\u001b[49m\u001b[43m \u001b[49m\u001b[43mdsid\u001b[49m\u001b[43m,\u001b[49m\u001b[43m \u001b[49m\u001b[38;5;241;43m*\u001b[39;49m\u001b[38;5;241;43m*\u001b[39;49m\u001b[43mkwargs\u001b[49m\u001b[43m)\u001b[49m\n\u001b[0;32m    837\u001b[0m \u001b[38;5;28;01mexcept\u001b[39;00m (\u001b[38;5;167;01mKeyError\u001b[39;00m, \u001b[38;5;167;01mValueError\u001b[39;00m) \u001b[38;5;28;01mas\u001b[39;00m err:\n\u001b[0;32m    838\u001b[0m     logger\u001b[38;5;241m.\u001b[39mexception(\u001b[38;5;124m\"\u001b[39m\u001b[38;5;124mCould not load dataset \u001b[39m\u001b[38;5;124m'\u001b[39m\u001b[38;5;132;01m%s\u001b[39;00m\u001b[38;5;124m'\u001b[39m\u001b[38;5;124m: \u001b[39m\u001b[38;5;132;01m%s\u001b[39;00m\u001b[38;5;124m\"\u001b[39m, dsid, \u001b[38;5;28mstr\u001b[39m(err))\n",
      "File \u001b[1;32m~\\.conda\\envs\\nasa-murep\\Lib\\site-packages\\satpy\\readers\\yaml_reader.py:736\u001b[0m, in \u001b[0;36mFileYAMLReader._load_dataset_data\u001b[1;34m(self, file_handlers, dsid, **kwargs)\u001b[0m\n\u001b[0;32m    734\u001b[0m \u001b[38;5;28;01mdef\u001b[39;00m \u001b[38;5;21m_load_dataset_data\u001b[39m(\u001b[38;5;28mself\u001b[39m, file_handlers, dsid, \u001b[38;5;241m*\u001b[39m\u001b[38;5;241m*\u001b[39mkwargs):\n\u001b[0;32m    735\u001b[0m     ds_info \u001b[38;5;241m=\u001b[39m \u001b[38;5;28mself\u001b[39m\u001b[38;5;241m.\u001b[39mall_ids[dsid]\n\u001b[1;32m--> 736\u001b[0m     proj \u001b[38;5;241m=\u001b[39m \u001b[38;5;28;43mself\u001b[39;49m\u001b[38;5;241;43m.\u001b[39;49m\u001b[43m_load_dataset\u001b[49m\u001b[43m(\u001b[49m\u001b[43mdsid\u001b[49m\u001b[43m,\u001b[49m\u001b[43m \u001b[49m\u001b[43mds_info\u001b[49m\u001b[43m,\u001b[49m\u001b[43m \u001b[49m\u001b[43mfile_handlers\u001b[49m\u001b[43m,\u001b[49m\u001b[43m \u001b[49m\u001b[38;5;241;43m*\u001b[39;49m\u001b[38;5;241;43m*\u001b[39;49m\u001b[43mkwargs\u001b[49m\u001b[43m)\u001b[49m\n\u001b[0;32m    737\u001b[0m     \u001b[38;5;66;03m# FIXME: areas could be concatenated here\u001b[39;00m\n\u001b[0;32m    738\u001b[0m     \u001b[38;5;66;03m# Update the metadata\u001b[39;00m\n\u001b[0;32m    739\u001b[0m     proj\u001b[38;5;241m.\u001b[39mattrs[\u001b[38;5;124m\"\u001b[39m\u001b[38;5;124mstart_time\u001b[39m\u001b[38;5;124m\"\u001b[39m] \u001b[38;5;241m=\u001b[39m file_handlers[\u001b[38;5;241m0\u001b[39m]\u001b[38;5;241m.\u001b[39mstart_time\n",
      "File \u001b[1;32m~\\.conda\\envs\\nasa-murep\\Lib\\site-packages\\satpy\\readers\\yaml_reader.py:712\u001b[0m, in \u001b[0;36mFileYAMLReader._load_dataset\u001b[1;34m(dsid, ds_info, file_handlers, dim, **kwargs)\u001b[0m\n\u001b[0;32m    710\u001b[0m \u001b[38;5;28;01mfor\u001b[39;00m fh \u001b[38;5;129;01min\u001b[39;00m file_handlers:\n\u001b[0;32m    711\u001b[0m     \u001b[38;5;28;01mtry\u001b[39;00m:\n\u001b[1;32m--> 712\u001b[0m         projectable \u001b[38;5;241m=\u001b[39m \u001b[43mfh\u001b[49m\u001b[38;5;241;43m.\u001b[39;49m\u001b[43mget_dataset\u001b[49m\u001b[43m(\u001b[49m\u001b[43mdsid\u001b[49m\u001b[43m,\u001b[49m\u001b[43m \u001b[49m\u001b[43mds_info\u001b[49m\u001b[43m)\u001b[49m\n\u001b[0;32m    713\u001b[0m         \u001b[38;5;28;01mif\u001b[39;00m projectable \u001b[38;5;129;01mis\u001b[39;00m \u001b[38;5;129;01mnot\u001b[39;00m \u001b[38;5;28;01mNone\u001b[39;00m:\n\u001b[0;32m    714\u001b[0m             slice_list\u001b[38;5;241m.\u001b[39mappend(projectable)\n",
      "File \u001b[1;32m~\\.conda\\envs\\nasa-murep\\Lib\\site-packages\\satpy\\readers\\modis_l1b.py:258\u001b[0m, in \u001b[0;36mMixedHDFEOSReader.get_dataset\u001b[1;34m(self, key, info)\u001b[0m\n\u001b[0;32m    256\u001b[0m \u001b[38;5;250m\u001b[39m\u001b[38;5;124;03m\"\"\"Get the dataset.\"\"\"\u001b[39;00m\n\u001b[0;32m    257\u001b[0m \u001b[38;5;28;01mif\u001b[39;00m key[\u001b[38;5;124m\"\u001b[39m\u001b[38;5;124mname\u001b[39m\u001b[38;5;124m\"\u001b[39m] \u001b[38;5;129;01min\u001b[39;00m HDFEOSGeoReader\u001b[38;5;241m.\u001b[39mDATASET_NAMES:\n\u001b[1;32m--> 258\u001b[0m     \u001b[38;5;28;01mreturn\u001b[39;00m \u001b[43mHDFEOSGeoReader\u001b[49m\u001b[38;5;241;43m.\u001b[39;49m\u001b[43mget_dataset\u001b[49m\u001b[43m(\u001b[49m\u001b[38;5;28;43mself\u001b[39;49m\u001b[43m,\u001b[49m\u001b[43m \u001b[49m\u001b[43mkey\u001b[49m\u001b[43m,\u001b[49m\u001b[43m \u001b[49m\u001b[43minfo\u001b[49m\u001b[43m)\u001b[49m\n\u001b[0;32m    259\u001b[0m \u001b[38;5;28;01mreturn\u001b[39;00m HDFEOSBandReader\u001b[38;5;241m.\u001b[39mget_dataset(\u001b[38;5;28mself\u001b[39m, key, info)\n",
      "File \u001b[1;32m~\\.conda\\envs\\nasa-murep\\Lib\\site-packages\\satpy\\readers\\hdfeos_base.py:421\u001b[0m, in \u001b[0;36mHDFEOSGeoReader.get_dataset\u001b[1;34m(self, dataset_id, dataset_info)\u001b[0m\n\u001b[0;32m    418\u001b[0m     data \u001b[38;5;241m=\u001b[39m \u001b[38;5;28mself\u001b[39m\u001b[38;5;241m.\u001b[39mload_dataset(in_file_dataset_name)\n\u001b[0;32m    419\u001b[0m \u001b[38;5;28;01melse\u001b[39;00m:\n\u001b[0;32m    420\u001b[0m     \u001b[38;5;66;03m# otherwise use the default name for this variable\u001b[39;00m\n\u001b[1;32m--> 421\u001b[0m     data \u001b[38;5;241m=\u001b[39m \u001b[38;5;28;43mself\u001b[39;49m\u001b[38;5;241;43m.\u001b[39;49m\u001b[43m_load_ds_by_name\u001b[49m\u001b[43m(\u001b[49m\u001b[43mdataset_name\u001b[49m\u001b[43m)\u001b[49m\n\u001b[0;32m    422\u001b[0m \u001b[38;5;28;01mif\u001b[39;00m resolution \u001b[38;5;241m!=\u001b[39m \u001b[38;5;28mself\u001b[39m\u001b[38;5;241m.\u001b[39mgeo_resolution:\n\u001b[0;32m    423\u001b[0m     \u001b[38;5;28;01mif\u001b[39;00m in_file_dataset_name \u001b[38;5;129;01mis\u001b[39;00m \u001b[38;5;129;01mnot\u001b[39;00m \u001b[38;5;28;01mNone\u001b[39;00m:\n\u001b[0;32m    424\u001b[0m         \u001b[38;5;66;03m# they specified a custom variable name but\u001b[39;00m\n\u001b[0;32m    425\u001b[0m         \u001b[38;5;66;03m# we don't know how to interpolate this yet\u001b[39;00m\n",
      "File \u001b[1;32m~\\.conda\\envs\\nasa-murep\\Lib\\site-packages\\satpy\\readers\\hdfeos_base.py:385\u001b[0m, in \u001b[0;36mHDFEOSGeoReader._load_ds_by_name\u001b[1;34m(self, ds_name)\u001b[0m\n\u001b[0;32m    383\u001b[0m     \u001b[38;5;28;01mexcept\u001b[39;00m \u001b[38;5;167;01mKeyError\u001b[39;00m:\n\u001b[0;32m    384\u001b[0m         \u001b[38;5;28;01mreturn\u001b[39;00m \u001b[38;5;28mself\u001b[39m\u001b[38;5;241m.\u001b[39mload_dataset(var_names[\u001b[38;5;241m1\u001b[39m])\n\u001b[1;32m--> 385\u001b[0m \u001b[38;5;28;01mreturn\u001b[39;00m \u001b[38;5;28;43mself\u001b[39;49m\u001b[38;5;241;43m.\u001b[39;49m\u001b[43mload_dataset\u001b[49m\u001b[43m(\u001b[49m\u001b[43mvar_names\u001b[49m\u001b[43m)\u001b[49m\n",
      "File \u001b[1;32m~\\.conda\\envs\\nasa-murep\\Lib\\site-packages\\satpy\\readers\\hdfeos_base.py:222\u001b[0m, in \u001b[0;36mHDFEOSBaseFileReader.load_dataset\u001b[1;34m(self, dataset_name, is_category)\u001b[0m\n\u001b[0;32m    219\u001b[0m dask_arr \u001b[38;5;241m=\u001b[39m from_sds(dataset, chunks\u001b[38;5;241m=\u001b[39mchunks)\n\u001b[0;32m    220\u001b[0m dims \u001b[38;5;241m=\u001b[39m (\u001b[38;5;124m\"\u001b[39m\u001b[38;5;124my\u001b[39m\u001b[38;5;124m\"\u001b[39m, \u001b[38;5;124m\"\u001b[39m\u001b[38;5;124mx\u001b[39m\u001b[38;5;124m\"\u001b[39m) \u001b[38;5;28;01mif\u001b[39;00m dask_arr\u001b[38;5;241m.\u001b[39mndim \u001b[38;5;241m==\u001b[39m \u001b[38;5;241m2\u001b[39m \u001b[38;5;28;01melse\u001b[39;00m \u001b[38;5;28;01mNone\u001b[39;00m\n\u001b[0;32m    221\u001b[0m data \u001b[38;5;241m=\u001b[39m xr\u001b[38;5;241m.\u001b[39mDataArray(dask_arr, dims\u001b[38;5;241m=\u001b[39mdims,\n\u001b[1;32m--> 222\u001b[0m                     attrs\u001b[38;5;241m=\u001b[39m\u001b[43mdataset\u001b[49m\u001b[38;5;241;43m.\u001b[39;49m\u001b[43mattributes\u001b[49m\u001b[43m(\u001b[49m\u001b[43m)\u001b[49m)\n\u001b[0;32m    223\u001b[0m data \u001b[38;5;241m=\u001b[39m \u001b[38;5;28mself\u001b[39m\u001b[38;5;241m.\u001b[39m_scale_and_mask_data_array(data, is_category\u001b[38;5;241m=\u001b[39mis_category)\n\u001b[0;32m    225\u001b[0m \u001b[38;5;28;01mreturn\u001b[39;00m data\n",
      "File \u001b[1;32m~\\.conda\\envs\\nasa-murep\\Lib\\site-packages\\pyhdf\\SD.py:2786\u001b[0m, in \u001b[0;36mSDS.attributes\u001b[1;34m(self, full)\u001b[0m\n\u001b[0;32m   2761\u001b[0m \u001b[38;5;250m\u001b[39m\u001b[38;5;124;03m\"\"\"Return a dictionary describing every attribute defined\u001b[39;00m\n\u001b[0;32m   2762\u001b[0m \u001b[38;5;124;03mon the dataset.\u001b[39;00m\n\u001b[0;32m   2763\u001b[0m \n\u001b[1;32m   (...)\u001b[0m\n\u001b[0;32m   2782\u001b[0m \u001b[38;5;124;03mC library equivalent : no equivalent\u001b[39;00m\n\u001b[0;32m   2783\u001b[0m \u001b[38;5;124;03m                                            \"\"\"\u001b[39;00m\n\u001b[0;32m   2785\u001b[0m \u001b[38;5;66;03m# Get the number of dataset attributes.\u001b[39;00m\n\u001b[1;32m-> 2786\u001b[0m natts \u001b[38;5;241m=\u001b[39m \u001b[38;5;28;43mself\u001b[39;49m\u001b[38;5;241;43m.\u001b[39;49m\u001b[43minfo\u001b[49m\u001b[43m(\u001b[49m\u001b[43m)\u001b[49m[\u001b[38;5;241m4\u001b[39m]\n\u001b[0;32m   2788\u001b[0m \u001b[38;5;66;03m# Inquire each attribute\u001b[39;00m\n\u001b[0;32m   2789\u001b[0m res \u001b[38;5;241m=\u001b[39m {}\n",
      "File \u001b[1;32m~\\.conda\\envs\\nasa-murep\\Lib\\site-packages\\pyhdf\\SD.py:2128\u001b[0m, in \u001b[0;36mSDS.info\u001b[1;34m(self)\u001b[0m\n\u001b[0;32m   2125\u001b[0m buf \u001b[38;5;241m=\u001b[39m _C\u001b[38;5;241m.\u001b[39marray_int32(_C\u001b[38;5;241m.\u001b[39mH4_MAX_VAR_DIMS)\n\u001b[0;32m   2126\u001b[0m status, sds_name, rank, data_type, n_attrs \u001b[38;5;241m=\u001b[39m \\\n\u001b[0;32m   2127\u001b[0m         _C\u001b[38;5;241m.\u001b[39mSDgetinfo(\u001b[38;5;28mself\u001b[39m\u001b[38;5;241m.\u001b[39m_id, buf)\n\u001b[1;32m-> 2128\u001b[0m \u001b[43m_checkErr\u001b[49m\u001b[43m(\u001b[49m\u001b[38;5;124;43m'\u001b[39;49m\u001b[38;5;124;43minfo\u001b[39;49m\u001b[38;5;124;43m'\u001b[39;49m\u001b[43m,\u001b[49m\u001b[43m \u001b[49m\u001b[43mstatus\u001b[49m\u001b[43m,\u001b[49m\u001b[43m \u001b[49m\u001b[38;5;124;43m\"\u001b[39;49m\u001b[38;5;124;43mcannot execute\u001b[39;49m\u001b[38;5;124;43m\"\u001b[39;49m\u001b[43m)\u001b[49m\n\u001b[0;32m   2129\u001b[0m dim_sizes \u001b[38;5;241m=\u001b[39m _array_to_ret(buf, rank)\n\u001b[0;32m   2130\u001b[0m \u001b[38;5;28;01mreturn\u001b[39;00m sds_name, rank, dim_sizes, data_type, n_attrs\n",
      "File \u001b[1;32m~\\.conda\\envs\\nasa-murep\\Lib\\site-packages\\pyhdf\\error.py:23\u001b[0m, in \u001b[0;36m_checkErr\u001b[1;34m(procName, val, msg)\u001b[0m\n\u001b[0;32m     21\u001b[0m \u001b[38;5;28;01melse\u001b[39;00m:\n\u001b[0;32m     22\u001b[0m     err \u001b[38;5;241m=\u001b[39m \u001b[38;5;124m\"\u001b[39m\u001b[38;5;132;01m%s\u001b[39;00m\u001b[38;5;124m : \u001b[39m\u001b[38;5;132;01m%s\u001b[39;00m\u001b[38;5;124m\"\u001b[39m \u001b[38;5;241m%\u001b[39m (procName, msg)\n\u001b[1;32m---> 23\u001b[0m \u001b[38;5;28;01mraise\u001b[39;00m HDF4Error(err)\n",
      "\u001b[1;31mHDF4Error\u001b[0m: info (59): Invalid arguments to routine"
     ]
    }
   ],
   "source": [
    "my_channel = '32'\n",
    "scn.load([my_channel])\n",
    "scn[my_channel]"
   ]
  },
  {
   "cell_type": "code",
   "execution_count": null,
   "id": "34031c50-ec09-41f5-b63f-428ca41b77e3",
   "metadata": {},
   "outputs": [],
   "source": [
    "area_def = create_area_def('global', {'proj': 'latlong'}, \n",
    "                           resolution=0.05)\n",
    "\n",
    "new_scene = scene.resample(area_def)"
   ]
  },
  {
   "cell_type": "code",
   "execution_count": null,
   "id": "96c8b157-0cd7-4612-a9b1-bc4d80350b59",
   "metadata": {},
   "outputs": [],
   "source": [
    "sst = new_scene['32'].data \n",
    "fig, ax = plt.subplots(subplot_kw={'projection': ccrs.PlateCarree()})\n",
    "sst_plot = ax.imshow(sst, cmap=cmo.thermal, transform=ccrs.PlateCarree(),\n",
    "                     extent=(-94, -88, 27.5, 30.5), origin='upper')\n",
    "\n",
    "ax.coastlines()\n",
    "ax.add_feature(cfeature.BORDERS, linestyle=':')\n",
    "ax.gridlines(draw_labels=True)\n",
    "plt.colorbar(sst_plot, ax=ax, orientation='vertical', label='Sea Surface Temperature (°C)')\n",
    "\n",
    "plt.show()"
   ]
  },
  {
   "cell_type": "markdown",
   "id": "5a180f66-ca55-403b-9d25-7aa9afdda8f8",
   "metadata": {},
   "source": [
    "### Map from 0 to 1"
   ]
  },
  {
   "cell_type": "code",
   "execution_count": null,
   "id": "9d08870f-b89e-430f-acfb-852a265d4e21",
   "metadata": {},
   "outputs": [],
   "source": [
    "sst_min = sst.min()\n",
    "sst_max = sst.max()\n",
    "sst_norm = (sst - sst_min) / (sst_max - sst_min)\n",
    "\n",
    "fig, ax = plt.subplots(subplot_kw={'projection': ccrs.PlateCarree()})\n",
    "sst_plot = ax.imshow(sst_norm, cmap=cmo.thermal, transform=ccrs.PlateCarree(),\n",
    "                     extent=(-94, -88, 27.5, 30.5), origin='upper')\n",
    "\n",
    "ax.coastlines()\n",
    "ax.add_feature(cfeature.BORDERS, linestyle=':')\n",
    "ax.gridlines(draw_labels=True)\n",
    "plt.colorbar(sst_plot, ax=ax, orientation='vertical', label='Normalized Sea Surface Temperature')\n",
    "\n",
    "plt.show()"
   ]
  },
  {
   "attachments": {},
   "cell_type": "markdown",
   "id": "d461dfa8-2da5-45b2-b65b-af14f8db1b87",
   "metadata": {},
   "source": [
    "## Plotting CDOM"
   ]
  },
  {
   "cell_type": "code",
   "execution_count": null,
   "id": "91be9712-858f-43cb-8429-db67999bccc7",
   "metadata": {
    "scrolled": true
   },
   "outputs": [],
   "source": [
    "hdf_files = glob('../downloads/MOD021KM.A2024238.0225.061.2024238131855.hdf')\n",
    "scn = Scene(reader='modis_l1b', filenames=hdf_files)\n",
    "scn.load(['8'])\n",
    "scn.load(['4'])\n",
    "scn.load(['13lo'])\n",
    "\n",
    "lons, lats = scn['8'].attrs['area'].get_lonlats()\n",
    "crs = ccrs.PlateCarree()\n",
    "\n",
    "Rss412 = (scn['8'])\n",
    "Rss555 = (scn['4'])\n",
    "Rss667 = (scn['13lo'])\n",
    "\n",
    "B0 = 0.2452\n",
    "B1 = 5.576\n",
    "B2 = 4.838\n",
    "aCDOM355_a = (np.log((Rss412 / Rss555 - B0) / B2)) / (-B1)\n",
    "aCDOM355_a = aCDOM355_a.compute()"
   ]
  },
  {
   "cell_type": "code",
   "execution_count": null,
   "id": "2e6fd445-be46-4d75-b699-7b54635289d2",
   "metadata": {},
   "outputs": [],
   "source": [
    "trim = aCDOM355_a.max().values\n",
    "fig, ax5 = plt.subplots(subplot_kw={'projection': crs})\n",
    "\n",
    "ax5.pcolormesh(lons, lats, aCDOM355_a.where(aCDOM355_a <= trim), transform=crs, vmin=0.01, vmax=0.3)\n",
    "ax.coastlines()\n",
    "ax.add_feature(cfeature.BORDERS, linestyle=':')\n",
    "ax.gridlines(draw_labels=True)\n",
    "plt.colorbar(sst_plot, ax=ax, orientation='vertical', label='Sea Surface Temperature (°C)')\n",
    "ax5.set_extent([-94, -88, 27.5, 30.5], crs=crs)\n",
    "\n",
    "ax5.set_title('CDOM Concentration')\n",
    "\n",
    "plt.show()"
   ]
  },
  {
   "cell_type": "markdown",
   "id": "9a108cf3-5f49-41b5-9478-da1feeb075cd",
   "metadata": {},
   "source": [
    "Mapping"
   ]
  },
  {
   "cell_type": "code",
   "execution_count": null,
   "id": "0f1b5c62-2952-4b83-90a7-4c5bae32114d",
   "metadata": {},
   "outputs": [],
   "source": [
    "min_val = aCDOM355_a.min().values\n",
    "max_val = aCDOM355_a.max().values\n",
    "aCDOM355_a_normalized = (aCDOM355_a - min_val) / (max_val - min_val)\n",
    "\n",
    "trim = aCDOM355_a_normalized.max().values\n",
    "\n",
    "fig, ax5 = plt.subplots(subplot_kw={'projection': crs})\n",
    "sst_plot = ax5.pcolormesh(lons, lats, aCDOM355_a_normalized.where(aCDOM355_a_normalized <= trim), \n",
    "                          transform=crs, vmin=0, vmax=1)\n",
    "ax5.coastlines()\n",
    "ax5.add_feature(cfeature.BORDERS, linestyle=':')\n",
    "ax5.gridlines(draw_labels=True)\n",
    "\n",
    "plt.colorbar(sst_plot, ax=ax5, orientation='vertical', label='Normalized CDOM Concentration (0-1)')\n",
    "ax5.set_extent([-94, -88, 27.5, 30.5], crs=crs)\n",
    "ax5.set_title('Normalized CDOM Concentration')\n",
    "\n",
    "plt.show()"
   ]
  },
  {
   "cell_type": "markdown",
   "id": "d54453e4-c58c-4cbf-8951-df7c21b56de8",
   "metadata": {},
   "source": [
    "# Final Code"
   ]
  },
  {
   "cell_type": "code",
   "execution_count": null,
   "id": "be1868cf-886d-457a-951a-2b0402630138",
   "metadata": {},
   "outputs": [],
   "source": [
    "area_def = create_area_def('global', {'proj': 'latlong'}, resolution=0.05,\n",
    "                           area_extent=(-94, -88, 27.5, 30.5))\n",
    "\n",
    "new_scene_cdom = scn.resample(area_def)\n",
    "aCDOM355_a_resampled = new_scene_cdom['8'].data.compute()\n",
    "\n",
    "new_scene_sst = scn.resample(area_def)\n",
    "sst_resampled = new_scene_sst['32'].data.compute()"
   ]
  },
  {
   "cell_type": "code",
   "execution_count": null,
   "id": "056e6c3f-2f15-466d-9f15-f17c824da255",
   "metadata": {},
   "outputs": [],
   "source": [
    "cdom_min = aCDOM355_a_resampled.min()\n",
    "cdom_max = aCDOM355_a_resampled.max()\n",
    "aCDOM355_a_normalized = (aCDOM355_a_resampled - cdom_min) / (cdom_max - cdom_min)\n",
    "\n",
    "sst_min = sst_resampled.min()\n",
    "sst_max = sst_resampled.max()\n",
    "sst_normalized = (sst_resampled - sst_min) / (sst_max - sst_min)\n",
    "\n",
    "assert aCDOM355_a_normalized.shape == sst_normalized.shape, \"Shapes are not aligned!\""
   ]
  },
  {
   "cell_type": "code",
   "execution_count": null,
   "id": "ef593d2b-b542-4252-b748-bf82876f0515",
   "metadata": {},
   "outputs": [],
   "source": [
    "combined_map = aCDOM355_a_normalized * sst_normalized\n",
    "\n",
    "fig, ax = plt.subplots(subplot_kw={'projection': ccrs.PlateCarree()})\n",
    "combined_plot = ax.imshow(combined_map, cmap='viridis', transform=ccrs.PlateCarree(),\n",
    "                          extent=(-94, -88, 27.5, 30.5), origin='upper')\n",
    "\n",
    "ax.coastlines()\n",
    "ax.add_feature(cfeature.BORDERS, linestyle=':')\n",
    "ax.gridlines(draw_labels=True)\n",
    "\n",
    "# Add color bar and labels\n",
    "plt.colorbar(combined_plot, ax=ax, orientation='vertical', label='Combined Map (Normalized)')\n",
    "ax.set_title('Combined CDOM and SST Map')\n",
    "\n",
    "plt.show()"
   ]
  },
  {
   "cell_type": "markdown",
   "id": "aaeb87e9-6455-487d-a486-a790634de416",
   "metadata": {},
   "source": [
    "## Verfy all available channels"
   ]
  },
  {
   "cell_type": "code",
   "execution_count": null,
   "id": "38bdb520-af20-4504-959e-a88e8d5bafc1",
   "metadata": {},
   "outputs": [],
   "source": [
    "# hdf_file = '../downloads/MOD021KM.A2024238.0225.061.2024238131855.hdf'\n",
    "scene = Scene(reader='modis_l1b', filenames=hdf_files)\n",
    "print(scene.available_dataset_names())\n"
   ]
  }
 ],
 "metadata": {
  "kernelspec": {
   "display_name": "Python 3",
   "language": "python",
   "name": "python3"
  },
  "language_info": {
   "codemirror_mode": {
    "name": "ipython",
    "version": 3
   },
   "file_extension": ".py",
   "mimetype": "text/x-python",
   "name": "python",
   "nbconvert_exporter": "python",
   "pygments_lexer": "ipython3",
   "version": "3.12.2"
  }
 },
 "nbformat": 4,
 "nbformat_minor": 5
}
